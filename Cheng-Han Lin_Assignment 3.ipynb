{
 "cells": [
  {
   "cell_type": "code",
   "execution_count": 1,
   "id": "e9cdfd32",
   "metadata": {},
   "outputs": [],
   "source": [
    "import pandas as pd\n",
    "import numpy as np"
   ]
  },
  {
   "cell_type": "markdown",
   "id": "7ff85d24",
   "metadata": {},
   "source": [
    "# Part I\n",
    "## A."
   ]
  },
  {
   "cell_type": "code",
   "execution_count": 2,
   "id": "76c1cf2e",
   "metadata": {},
   "outputs": [],
   "source": [
    "# import database\n",
    "df = pd.read_csv('/Users/leon/My Drive/BU ABA/AD654/Assignment 3/bank_churn.csv')"
   ]
  },
  {
   "cell_type": "code",
   "execution_count": 3,
   "id": "6e86f1d3",
   "metadata": {
    "scrolled": true
   },
   "outputs": [
    {
     "data": {
      "text/html": [
       "<div>\n",
       "<style scoped>\n",
       "    .dataframe tbody tr th:only-of-type {\n",
       "        vertical-align: middle;\n",
       "    }\n",
       "\n",
       "    .dataframe tbody tr th {\n",
       "        vertical-align: top;\n",
       "    }\n",
       "\n",
       "    .dataframe thead th {\n",
       "        text-align: right;\n",
       "    }\n",
       "</style>\n",
       "<table border=\"1\" class=\"dataframe\">\n",
       "  <thead>\n",
       "    <tr style=\"text-align: right;\">\n",
       "      <th></th>\n",
       "      <th>RowNumber</th>\n",
       "      <th>CustomerId</th>\n",
       "      <th>Surname</th>\n",
       "      <th>CreditScore</th>\n",
       "      <th>Geography</th>\n",
       "      <th>Gender</th>\n",
       "      <th>Age</th>\n",
       "      <th>Tenure</th>\n",
       "      <th>Balance</th>\n",
       "      <th>NumOfProducts</th>\n",
       "      <th>HasCrCard</th>\n",
       "      <th>IsActiveMember</th>\n",
       "      <th>EstimatedSalary</th>\n",
       "      <th>Exited</th>\n",
       "    </tr>\n",
       "  </thead>\n",
       "  <tbody>\n",
       "    <tr>\n",
       "      <th>0</th>\n",
       "      <td>1</td>\n",
       "      <td>15634602</td>\n",
       "      <td>Hargrave</td>\n",
       "      <td>619</td>\n",
       "      <td>France</td>\n",
       "      <td>Female</td>\n",
       "      <td>42</td>\n",
       "      <td>2</td>\n",
       "      <td>0.00</td>\n",
       "      <td>1</td>\n",
       "      <td>1</td>\n",
       "      <td>1</td>\n",
       "      <td>101348.88</td>\n",
       "      <td>1</td>\n",
       "    </tr>\n",
       "    <tr>\n",
       "      <th>1</th>\n",
       "      <td>2</td>\n",
       "      <td>15647311</td>\n",
       "      <td>Hill</td>\n",
       "      <td>608</td>\n",
       "      <td>Spain</td>\n",
       "      <td>Female</td>\n",
       "      <td>41</td>\n",
       "      <td>1</td>\n",
       "      <td>83807.86</td>\n",
       "      <td>1</td>\n",
       "      <td>0</td>\n",
       "      <td>1</td>\n",
       "      <td>112542.58</td>\n",
       "      <td>0</td>\n",
       "    </tr>\n",
       "    <tr>\n",
       "      <th>2</th>\n",
       "      <td>3</td>\n",
       "      <td>15619304</td>\n",
       "      <td>Onio</td>\n",
       "      <td>502</td>\n",
       "      <td>France</td>\n",
       "      <td>Female</td>\n",
       "      <td>42</td>\n",
       "      <td>8</td>\n",
       "      <td>159660.80</td>\n",
       "      <td>3</td>\n",
       "      <td>1</td>\n",
       "      <td>0</td>\n",
       "      <td>113931.57</td>\n",
       "      <td>1</td>\n",
       "    </tr>\n",
       "    <tr>\n",
       "      <th>3</th>\n",
       "      <td>4</td>\n",
       "      <td>15701354</td>\n",
       "      <td>Boni</td>\n",
       "      <td>699</td>\n",
       "      <td>France</td>\n",
       "      <td>Female</td>\n",
       "      <td>39</td>\n",
       "      <td>1</td>\n",
       "      <td>0.00</td>\n",
       "      <td>2</td>\n",
       "      <td>0</td>\n",
       "      <td>0</td>\n",
       "      <td>93826.63</td>\n",
       "      <td>0</td>\n",
       "    </tr>\n",
       "    <tr>\n",
       "      <th>4</th>\n",
       "      <td>5</td>\n",
       "      <td>15737888</td>\n",
       "      <td>Mitchell</td>\n",
       "      <td>850</td>\n",
       "      <td>Spain</td>\n",
       "      <td>Female</td>\n",
       "      <td>43</td>\n",
       "      <td>2</td>\n",
       "      <td>125510.82</td>\n",
       "      <td>1</td>\n",
       "      <td>1</td>\n",
       "      <td>1</td>\n",
       "      <td>79084.10</td>\n",
       "      <td>0</td>\n",
       "    </tr>\n",
       "  </tbody>\n",
       "</table>\n",
       "</div>"
      ],
      "text/plain": [
       "   RowNumber  CustomerId   Surname  CreditScore Geography  Gender  Age  \\\n",
       "0          1    15634602  Hargrave          619    France  Female   42   \n",
       "1          2    15647311      Hill          608     Spain  Female   41   \n",
       "2          3    15619304      Onio          502    France  Female   42   \n",
       "3          4    15701354      Boni          699    France  Female   39   \n",
       "4          5    15737888  Mitchell          850     Spain  Female   43   \n",
       "\n",
       "   Tenure    Balance  NumOfProducts  HasCrCard  IsActiveMember  \\\n",
       "0       2       0.00              1          1               1   \n",
       "1       1   83807.86              1          0               1   \n",
       "2       8  159660.80              3          1               0   \n",
       "3       1       0.00              2          0               0   \n",
       "4       2  125510.82              1          1               1   \n",
       "\n",
       "   EstimatedSalary  Exited  \n",
       "0        101348.88       1  \n",
       "1        112542.58       0  \n",
       "2        113931.57       1  \n",
       "3         93826.63       0  \n",
       "4         79084.10       0  "
      ]
     },
     "execution_count": 3,
     "metadata": {},
     "output_type": "execute_result"
    }
   ],
   "source": [
    "df.head()"
   ]
  },
  {
   "cell_type": "markdown",
   "id": "352a9d6a",
   "metadata": {},
   "source": [
    "## B.\n",
    "\n",
    "Categorical: RowNumber, CustomerID, Surname, Geography, Gender, HasCrCard, IsActiveMenber, Exited\n",
    "\n",
    "Numerical: CreditScore, Age, Tenure, Balance, NumOfProducts, EstimatedSalary"
   ]
  },
  {
   "cell_type": "markdown",
   "id": "38689d74",
   "metadata": {},
   "source": [
    "## C.\n",
    "\n",
    "### a.\n",
    "There are two categories here: \"1\" as leaving and \"0\" as staying. From the percentage we can see that exiting people are the majority in this dataset -- nearly 80%.\n",
    "\n",
    "### b.\n",
    "Oversampling is a data preprocessing technique used to address category imbalance in a dataset for machine learning models. So it could be a great way to balance in this project since exiting people are taking too many percentages here."
   ]
  },
  {
   "cell_type": "code",
   "execution_count": 4,
   "id": "1979163b",
   "metadata": {},
   "outputs": [
    {
     "data": {
      "text/html": [
       "<div>\n",
       "<style scoped>\n",
       "    .dataframe tbody tr th:only-of-type {\n",
       "        vertical-align: middle;\n",
       "    }\n",
       "\n",
       "    .dataframe tbody tr th {\n",
       "        vertical-align: top;\n",
       "    }\n",
       "\n",
       "    .dataframe thead th {\n",
       "        text-align: right;\n",
       "    }\n",
       "</style>\n",
       "<table border=\"1\" class=\"dataframe\">\n",
       "  <thead>\n",
       "    <tr style=\"text-align: right;\">\n",
       "      <th></th>\n",
       "      <th>Exited</th>\n",
       "      <th>Count</th>\n",
       "      <th>Percentage</th>\n",
       "    </tr>\n",
       "  </thead>\n",
       "  <tbody>\n",
       "    <tr>\n",
       "      <th>0</th>\n",
       "      <td>0</td>\n",
       "      <td>7963</td>\n",
       "      <td>79.63%</td>\n",
       "    </tr>\n",
       "    <tr>\n",
       "      <th>1</th>\n",
       "      <td>1</td>\n",
       "      <td>2037</td>\n",
       "      <td>20.37%</td>\n",
       "    </tr>\n",
       "  </tbody>\n",
       "</table>\n",
       "</div>"
      ],
      "text/plain": [
       "   Exited  Count Percentage\n",
       "0       0   7963     79.63%\n",
       "1       1   2037     20.37%"
      ]
     },
     "execution_count": 4,
     "metadata": {},
     "output_type": "execute_result"
    }
   ],
   "source": [
    "total = len(df)\n",
    "count = df['Exited'].value_counts()\n",
    "percentage = count / total * 100\n",
    "\n",
    "exited_percent = pd.DataFrame(\n",
    "{\n",
    "    'Exited': [0,1],\n",
    "    'Count': count,\n",
    "    'Percentage': [\"{:.2f}%\".format(p) for p in percentage]\n",
    "})\n",
    "exited_percent"
   ]
  },
  {
   "cell_type": "markdown",
   "id": "f54ff77d",
   "metadata": {},
   "source": [
    "## D.\n",
    "## a.\n",
    "\n",
    "\"RowNumber\" and \"CustomerId\" have all unique values, so I will remove these two column."
   ]
  },
  {
   "cell_type": "code",
   "execution_count": 5,
   "id": "b0f3db62",
   "metadata": {},
   "outputs": [
    {
     "data": {
      "text/plain": [
       "RowNumber         10000\n",
       "CustomerId        10000\n",
       "Surname            2932\n",
       "Geography             3\n",
       "Gender                2\n",
       "HasCrCard             2\n",
       "IsActiveMember        2\n",
       "Exited                2\n",
       "dtype: int64"
      ]
     },
     "execution_count": 5,
     "metadata": {},
     "output_type": "execute_result"
    }
   ],
   "source": [
    "df_category = df[['RowNumber','CustomerId','Surname','Geography', 'Gender', 'HasCrCard', 'IsActiveMember', 'Exited']]\n",
    "df_category.nunique()"
   ]
  },
  {
   "cell_type": "code",
   "execution_count": 6,
   "id": "0bffd3f6",
   "metadata": {},
   "outputs": [
    {
     "data": {
      "text/html": [
       "<div>\n",
       "<style scoped>\n",
       "    .dataframe tbody tr th:only-of-type {\n",
       "        vertical-align: middle;\n",
       "    }\n",
       "\n",
       "    .dataframe tbody tr th {\n",
       "        vertical-align: top;\n",
       "    }\n",
       "\n",
       "    .dataframe thead th {\n",
       "        text-align: right;\n",
       "    }\n",
       "</style>\n",
       "<table border=\"1\" class=\"dataframe\">\n",
       "  <thead>\n",
       "    <tr style=\"text-align: right;\">\n",
       "      <th></th>\n",
       "      <th>Surname</th>\n",
       "      <th>CreditScore</th>\n",
       "      <th>Geography</th>\n",
       "      <th>Gender</th>\n",
       "      <th>Age</th>\n",
       "      <th>Tenure</th>\n",
       "      <th>Balance</th>\n",
       "      <th>NumOfProducts</th>\n",
       "      <th>HasCrCard</th>\n",
       "      <th>IsActiveMember</th>\n",
       "      <th>EstimatedSalary</th>\n",
       "      <th>Exited</th>\n",
       "    </tr>\n",
       "  </thead>\n",
       "  <tbody>\n",
       "    <tr>\n",
       "      <th>0</th>\n",
       "      <td>Hargrave</td>\n",
       "      <td>619</td>\n",
       "      <td>France</td>\n",
       "      <td>Female</td>\n",
       "      <td>42</td>\n",
       "      <td>2</td>\n",
       "      <td>0.00</td>\n",
       "      <td>1</td>\n",
       "      <td>1</td>\n",
       "      <td>1</td>\n",
       "      <td>101348.88</td>\n",
       "      <td>1</td>\n",
       "    </tr>\n",
       "    <tr>\n",
       "      <th>1</th>\n",
       "      <td>Hill</td>\n",
       "      <td>608</td>\n",
       "      <td>Spain</td>\n",
       "      <td>Female</td>\n",
       "      <td>41</td>\n",
       "      <td>1</td>\n",
       "      <td>83807.86</td>\n",
       "      <td>1</td>\n",
       "      <td>0</td>\n",
       "      <td>1</td>\n",
       "      <td>112542.58</td>\n",
       "      <td>0</td>\n",
       "    </tr>\n",
       "    <tr>\n",
       "      <th>2</th>\n",
       "      <td>Onio</td>\n",
       "      <td>502</td>\n",
       "      <td>France</td>\n",
       "      <td>Female</td>\n",
       "      <td>42</td>\n",
       "      <td>8</td>\n",
       "      <td>159660.80</td>\n",
       "      <td>3</td>\n",
       "      <td>1</td>\n",
       "      <td>0</td>\n",
       "      <td>113931.57</td>\n",
       "      <td>1</td>\n",
       "    </tr>\n",
       "    <tr>\n",
       "      <th>3</th>\n",
       "      <td>Boni</td>\n",
       "      <td>699</td>\n",
       "      <td>France</td>\n",
       "      <td>Female</td>\n",
       "      <td>39</td>\n",
       "      <td>1</td>\n",
       "      <td>0.00</td>\n",
       "      <td>2</td>\n",
       "      <td>0</td>\n",
       "      <td>0</td>\n",
       "      <td>93826.63</td>\n",
       "      <td>0</td>\n",
       "    </tr>\n",
       "    <tr>\n",
       "      <th>4</th>\n",
       "      <td>Mitchell</td>\n",
       "      <td>850</td>\n",
       "      <td>Spain</td>\n",
       "      <td>Female</td>\n",
       "      <td>43</td>\n",
       "      <td>2</td>\n",
       "      <td>125510.82</td>\n",
       "      <td>1</td>\n",
       "      <td>1</td>\n",
       "      <td>1</td>\n",
       "      <td>79084.10</td>\n",
       "      <td>0</td>\n",
       "    </tr>\n",
       "  </tbody>\n",
       "</table>\n",
       "</div>"
      ],
      "text/plain": [
       "    Surname  CreditScore Geography  Gender  Age  Tenure    Balance  \\\n",
       "0  Hargrave          619    France  Female   42       2       0.00   \n",
       "1      Hill          608     Spain  Female   41       1   83807.86   \n",
       "2      Onio          502    France  Female   42       8  159660.80   \n",
       "3      Boni          699    France  Female   39       1       0.00   \n",
       "4  Mitchell          850     Spain  Female   43       2  125510.82   \n",
       "\n",
       "   NumOfProducts  HasCrCard  IsActiveMember  EstimatedSalary  Exited  \n",
       "0              1          1               1        101348.88       1  \n",
       "1              1          0               1        112542.58       0  \n",
       "2              3          1               0        113931.57       1  \n",
       "3              2          0               0         93826.63       0  \n",
       "4              1          1               1         79084.10       0  "
      ]
     },
     "execution_count": 6,
     "metadata": {},
     "output_type": "execute_result"
    }
   ],
   "source": [
    "# remove categorical veriables that all values are unique\n",
    "df2 = df.drop(['RowNumber','CustomerId'],axis =1)\n",
    "df2.head()"
   ]
  },
  {
   "cell_type": "markdown",
   "id": "aac4f437",
   "metadata": {},
   "source": [
    "## b.\n",
    "As for \"surname\", it has 2,932 unique values, and is still a large proportion as a categorical variable. So I will also remove it."
   ]
  },
  {
   "cell_type": "code",
   "execution_count": 7,
   "id": "116fedba",
   "metadata": {},
   "outputs": [
    {
     "data": {
      "text/html": [
       "<div>\n",
       "<style scoped>\n",
       "    .dataframe tbody tr th:only-of-type {\n",
       "        vertical-align: middle;\n",
       "    }\n",
       "\n",
       "    .dataframe tbody tr th {\n",
       "        vertical-align: top;\n",
       "    }\n",
       "\n",
       "    .dataframe thead th {\n",
       "        text-align: right;\n",
       "    }\n",
       "</style>\n",
       "<table border=\"1\" class=\"dataframe\">\n",
       "  <thead>\n",
       "    <tr style=\"text-align: right;\">\n",
       "      <th></th>\n",
       "      <th>CreditScore</th>\n",
       "      <th>Geography</th>\n",
       "      <th>Gender</th>\n",
       "      <th>Age</th>\n",
       "      <th>Tenure</th>\n",
       "      <th>Balance</th>\n",
       "      <th>NumOfProducts</th>\n",
       "      <th>HasCrCard</th>\n",
       "      <th>IsActiveMember</th>\n",
       "      <th>EstimatedSalary</th>\n",
       "      <th>Exited</th>\n",
       "    </tr>\n",
       "  </thead>\n",
       "  <tbody>\n",
       "    <tr>\n",
       "      <th>0</th>\n",
       "      <td>619</td>\n",
       "      <td>France</td>\n",
       "      <td>Female</td>\n",
       "      <td>42</td>\n",
       "      <td>2</td>\n",
       "      <td>0.00</td>\n",
       "      <td>1</td>\n",
       "      <td>1</td>\n",
       "      <td>1</td>\n",
       "      <td>101348.88</td>\n",
       "      <td>1</td>\n",
       "    </tr>\n",
       "    <tr>\n",
       "      <th>1</th>\n",
       "      <td>608</td>\n",
       "      <td>Spain</td>\n",
       "      <td>Female</td>\n",
       "      <td>41</td>\n",
       "      <td>1</td>\n",
       "      <td>83807.86</td>\n",
       "      <td>1</td>\n",
       "      <td>0</td>\n",
       "      <td>1</td>\n",
       "      <td>112542.58</td>\n",
       "      <td>0</td>\n",
       "    </tr>\n",
       "    <tr>\n",
       "      <th>2</th>\n",
       "      <td>502</td>\n",
       "      <td>France</td>\n",
       "      <td>Female</td>\n",
       "      <td>42</td>\n",
       "      <td>8</td>\n",
       "      <td>159660.80</td>\n",
       "      <td>3</td>\n",
       "      <td>1</td>\n",
       "      <td>0</td>\n",
       "      <td>113931.57</td>\n",
       "      <td>1</td>\n",
       "    </tr>\n",
       "    <tr>\n",
       "      <th>3</th>\n",
       "      <td>699</td>\n",
       "      <td>France</td>\n",
       "      <td>Female</td>\n",
       "      <td>39</td>\n",
       "      <td>1</td>\n",
       "      <td>0.00</td>\n",
       "      <td>2</td>\n",
       "      <td>0</td>\n",
       "      <td>0</td>\n",
       "      <td>93826.63</td>\n",
       "      <td>0</td>\n",
       "    </tr>\n",
       "    <tr>\n",
       "      <th>4</th>\n",
       "      <td>850</td>\n",
       "      <td>Spain</td>\n",
       "      <td>Female</td>\n",
       "      <td>43</td>\n",
       "      <td>2</td>\n",
       "      <td>125510.82</td>\n",
       "      <td>1</td>\n",
       "      <td>1</td>\n",
       "      <td>1</td>\n",
       "      <td>79084.10</td>\n",
       "      <td>0</td>\n",
       "    </tr>\n",
       "  </tbody>\n",
       "</table>\n",
       "</div>"
      ],
      "text/plain": [
       "   CreditScore Geography  Gender  Age  Tenure    Balance  NumOfProducts  \\\n",
       "0          619    France  Female   42       2       0.00              1   \n",
       "1          608     Spain  Female   41       1   83807.86              1   \n",
       "2          502    France  Female   42       8  159660.80              3   \n",
       "3          699    France  Female   39       1       0.00              2   \n",
       "4          850     Spain  Female   43       2  125510.82              1   \n",
       "\n",
       "   HasCrCard  IsActiveMember  EstimatedSalary  Exited  \n",
       "0          1               1        101348.88       1  \n",
       "1          0               1        112542.58       0  \n",
       "2          1               0        113931.57       1  \n",
       "3          0               0         93826.63       0  \n",
       "4          1               1         79084.10       0  "
      ]
     },
     "execution_count": 7,
     "metadata": {},
     "output_type": "execute_result"
    }
   ],
   "source": [
    "df3 = df2.drop('Surname',axis =1)\n",
    "df3.head()"
   ]
  },
  {
   "cell_type": "markdown",
   "id": "41991cde",
   "metadata": {},
   "source": [
    "## c.\n",
    "\n",
    "A categorical variable with entirely unique levels would be useless as an input for machine learning models because:\n",
    "\n",
    "- No Generalization - The model cannot learn any meaningful patterns if every data point has a completely unique categorical value. There is no way to generalize to new data points.\n",
    "\n",
    "- High Cardinality - A categorical variable with a very high number of levels (cardinality) can be problematic to model and lead to overfitting. Unique values would have maximum cardinality.\n",
    "\n",
    "- High Dimensionality - Encoding a categorical variable to use it in a model expands its dimensionality based on number of levels. Unique values expand into many useless binary variables.\n",
    "\n",
    "- Information Leakage - A categorical variable like customer ID that uniquely identifies data points can leak information about specific individuals, reducing generalizability.\n",
    "\n",
    "- No Comparisons - Since every value is unique, the model cannot determine any relative relationships or similarities between data points."
   ]
  },
  {
   "cell_type": "markdown",
   "id": "7da9e1e5",
   "metadata": {},
   "source": [
    "## E.\n",
    "\n",
    "There are no missing in this dataset."
   ]
  },
  {
   "cell_type": "code",
   "execution_count": 8,
   "id": "831eb3c3",
   "metadata": {
    "scrolled": true
   },
   "outputs": [
    {
     "data": {
      "text/plain": [
       "RowNumber          0\n",
       "CustomerId         0\n",
       "Surname            0\n",
       "CreditScore        0\n",
       "Geography          0\n",
       "Gender             0\n",
       "Age                0\n",
       "Tenure             0\n",
       "Balance            0\n",
       "NumOfProducts      0\n",
       "HasCrCard          0\n",
       "IsActiveMember     0\n",
       "EstimatedSalary    0\n",
       "Exited             0\n",
       "dtype: int64"
      ]
     },
     "execution_count": 8,
     "metadata": {},
     "output_type": "execute_result"
    }
   ],
   "source": [
    "df.isna().sum()"
   ]
  },
  {
   "cell_type": "markdown",
   "id": "b4240458",
   "metadata": {},
   "source": [
    "## F.\n",
    "\n",
    "From the result of correlation matrix for numeric variables, there are no variables having stong relation to each other, so I will keep all variables"
   ]
  },
  {
   "cell_type": "code",
   "execution_count": 9,
   "id": "cef1eceb",
   "metadata": {},
   "outputs": [
    {
     "data": {
      "text/html": [
       "<div>\n",
       "<style scoped>\n",
       "    .dataframe tbody tr th:only-of-type {\n",
       "        vertical-align: middle;\n",
       "    }\n",
       "\n",
       "    .dataframe tbody tr th {\n",
       "        vertical-align: top;\n",
       "    }\n",
       "\n",
       "    .dataframe thead th {\n",
       "        text-align: right;\n",
       "    }\n",
       "</style>\n",
       "<table border=\"1\" class=\"dataframe\">\n",
       "  <thead>\n",
       "    <tr style=\"text-align: right;\">\n",
       "      <th></th>\n",
       "      <th>CreditScore</th>\n",
       "      <th>Age</th>\n",
       "      <th>Tenure</th>\n",
       "      <th>Balance</th>\n",
       "      <th>NumOfProducts</th>\n",
       "      <th>EstimatedSalary</th>\n",
       "    </tr>\n",
       "  </thead>\n",
       "  <tbody>\n",
       "    <tr>\n",
       "      <th>CreditScore</th>\n",
       "      <td>1.000000</td>\n",
       "      <td>-0.003965</td>\n",
       "      <td>0.000842</td>\n",
       "      <td>0.006268</td>\n",
       "      <td>0.012238</td>\n",
       "      <td>-0.001384</td>\n",
       "    </tr>\n",
       "    <tr>\n",
       "      <th>Age</th>\n",
       "      <td>-0.003965</td>\n",
       "      <td>1.000000</td>\n",
       "      <td>-0.009997</td>\n",
       "      <td>0.028308</td>\n",
       "      <td>-0.030680</td>\n",
       "      <td>-0.007201</td>\n",
       "    </tr>\n",
       "    <tr>\n",
       "      <th>Tenure</th>\n",
       "      <td>0.000842</td>\n",
       "      <td>-0.009997</td>\n",
       "      <td>1.000000</td>\n",
       "      <td>-0.012254</td>\n",
       "      <td>0.013444</td>\n",
       "      <td>0.007784</td>\n",
       "    </tr>\n",
       "    <tr>\n",
       "      <th>Balance</th>\n",
       "      <td>0.006268</td>\n",
       "      <td>0.028308</td>\n",
       "      <td>-0.012254</td>\n",
       "      <td>1.000000</td>\n",
       "      <td>-0.304180</td>\n",
       "      <td>0.012797</td>\n",
       "    </tr>\n",
       "    <tr>\n",
       "      <th>NumOfProducts</th>\n",
       "      <td>0.012238</td>\n",
       "      <td>-0.030680</td>\n",
       "      <td>0.013444</td>\n",
       "      <td>-0.304180</td>\n",
       "      <td>1.000000</td>\n",
       "      <td>0.014204</td>\n",
       "    </tr>\n",
       "    <tr>\n",
       "      <th>EstimatedSalary</th>\n",
       "      <td>-0.001384</td>\n",
       "      <td>-0.007201</td>\n",
       "      <td>0.007784</td>\n",
       "      <td>0.012797</td>\n",
       "      <td>0.014204</td>\n",
       "      <td>1.000000</td>\n",
       "    </tr>\n",
       "  </tbody>\n",
       "</table>\n",
       "</div>"
      ],
      "text/plain": [
       "                 CreditScore       Age    Tenure   Balance  NumOfProducts  \\\n",
       "CreditScore         1.000000 -0.003965  0.000842  0.006268       0.012238   \n",
       "Age                -0.003965  1.000000 -0.009997  0.028308      -0.030680   \n",
       "Tenure              0.000842 -0.009997  1.000000 -0.012254       0.013444   \n",
       "Balance             0.006268  0.028308 -0.012254  1.000000      -0.304180   \n",
       "NumOfProducts       0.012238 -0.030680  0.013444 -0.304180       1.000000   \n",
       "EstimatedSalary    -0.001384 -0.007201  0.007784  0.012797       0.014204   \n",
       "\n",
       "                 EstimatedSalary  \n",
       "CreditScore            -0.001384  \n",
       "Age                    -0.007201  \n",
       "Tenure                  0.007784  \n",
       "Balance                 0.012797  \n",
       "NumOfProducts           0.014204  \n",
       "EstimatedSalary         1.000000  "
      ]
     },
     "execution_count": 9,
     "metadata": {},
     "output_type": "execute_result"
    }
   ],
   "source": [
    "## select numeric variable for correlation matrix\n",
    "numeric_variable = ['CreditScore', 'Age', 'Tenure', 'Balance', 'NumOfProducts', 'EstimatedSalary']\n",
    "df[numeric_variable].corr()"
   ]
  },
  {
   "cell_type": "markdown",
   "id": "e1e43f1c",
   "metadata": {},
   "source": [
    "## G."
   ]
  },
  {
   "cell_type": "code",
   "execution_count": 10,
   "id": "85b8f613",
   "metadata": {},
   "outputs": [
    {
     "data": {
      "text/html": [
       "<div>\n",
       "<style scoped>\n",
       "    .dataframe tbody tr th:only-of-type {\n",
       "        vertical-align: middle;\n",
       "    }\n",
       "\n",
       "    .dataframe tbody tr th {\n",
       "        vertical-align: top;\n",
       "    }\n",
       "\n",
       "    .dataframe thead th {\n",
       "        text-align: right;\n",
       "    }\n",
       "</style>\n",
       "<table border=\"1\" class=\"dataframe\">\n",
       "  <thead>\n",
       "    <tr style=\"text-align: right;\">\n",
       "      <th></th>\n",
       "      <th>CreditScore</th>\n",
       "      <th>Age</th>\n",
       "      <th>Tenure</th>\n",
       "      <th>Balance</th>\n",
       "      <th>NumOfProducts</th>\n",
       "      <th>EstimatedSalary</th>\n",
       "      <th>Geography</th>\n",
       "      <th>Gender</th>\n",
       "      <th>HasCrCard</th>\n",
       "      <th>IsActiveMember</th>\n",
       "      <th>Exited</th>\n",
       "    </tr>\n",
       "  </thead>\n",
       "  <tbody>\n",
       "    <tr>\n",
       "      <th>0</th>\n",
       "      <td>619</td>\n",
       "      <td>42</td>\n",
       "      <td>2</td>\n",
       "      <td>0.00</td>\n",
       "      <td>1</td>\n",
       "      <td>101348.88</td>\n",
       "      <td>France</td>\n",
       "      <td>Female</td>\n",
       "      <td>1</td>\n",
       "      <td>1</td>\n",
       "      <td>1</td>\n",
       "    </tr>\n",
       "    <tr>\n",
       "      <th>1</th>\n",
       "      <td>608</td>\n",
       "      <td>41</td>\n",
       "      <td>1</td>\n",
       "      <td>83807.86</td>\n",
       "      <td>1</td>\n",
       "      <td>112542.58</td>\n",
       "      <td>Spain</td>\n",
       "      <td>Female</td>\n",
       "      <td>0</td>\n",
       "      <td>1</td>\n",
       "      <td>0</td>\n",
       "    </tr>\n",
       "    <tr>\n",
       "      <th>2</th>\n",
       "      <td>502</td>\n",
       "      <td>42</td>\n",
       "      <td>8</td>\n",
       "      <td>159660.80</td>\n",
       "      <td>3</td>\n",
       "      <td>113931.57</td>\n",
       "      <td>France</td>\n",
       "      <td>Female</td>\n",
       "      <td>1</td>\n",
       "      <td>0</td>\n",
       "      <td>1</td>\n",
       "    </tr>\n",
       "    <tr>\n",
       "      <th>3</th>\n",
       "      <td>699</td>\n",
       "      <td>39</td>\n",
       "      <td>1</td>\n",
       "      <td>0.00</td>\n",
       "      <td>2</td>\n",
       "      <td>93826.63</td>\n",
       "      <td>France</td>\n",
       "      <td>Female</td>\n",
       "      <td>0</td>\n",
       "      <td>0</td>\n",
       "      <td>0</td>\n",
       "    </tr>\n",
       "    <tr>\n",
       "      <th>4</th>\n",
       "      <td>850</td>\n",
       "      <td>43</td>\n",
       "      <td>2</td>\n",
       "      <td>125510.82</td>\n",
       "      <td>1</td>\n",
       "      <td>79084.10</td>\n",
       "      <td>Spain</td>\n",
       "      <td>Female</td>\n",
       "      <td>1</td>\n",
       "      <td>1</td>\n",
       "      <td>0</td>\n",
       "    </tr>\n",
       "  </tbody>\n",
       "</table>\n",
       "</div>"
      ],
      "text/plain": [
       "   CreditScore  Age  Tenure    Balance  NumOfProducts  EstimatedSalary  \\\n",
       "0          619   42       2       0.00              1        101348.88   \n",
       "1          608   41       1   83807.86              1        112542.58   \n",
       "2          502   42       8  159660.80              3        113931.57   \n",
       "3          699   39       1       0.00              2         93826.63   \n",
       "4          850   43       2  125510.82              1         79084.10   \n",
       "\n",
       "  Geography  Gender  HasCrCard  IsActiveMember  Exited  \n",
       "0    France  Female          1               1       1  \n",
       "1     Spain  Female          0               1       0  \n",
       "2    France  Female          1               0       1  \n",
       "3    France  Female          0               0       0  \n",
       "4     Spain  Female          1               1       0  "
      ]
     },
     "execution_count": 10,
     "metadata": {},
     "output_type": "execute_result"
    }
   ],
   "source": [
    "# prepare table for logistic regression, outout is \"Exited\"\n",
    "categorical_variable = ['Geography', 'Gender', 'HasCrCard', 'IsActiveMember','Exited']\n",
    "output_var = ['Exited']\n",
    "all_variable = numeric_variable + categorical_variable\n",
    "df_new = df[all_variable]\n",
    "df_new.head()"
   ]
  },
  {
   "cell_type": "code",
   "execution_count": 11,
   "id": "dd43ec27",
   "metadata": {},
   "outputs": [
    {
     "data": {
      "text/html": [
       "<div>\n",
       "<style scoped>\n",
       "    .dataframe tbody tr th:only-of-type {\n",
       "        vertical-align: middle;\n",
       "    }\n",
       "\n",
       "    .dataframe tbody tr th {\n",
       "        vertical-align: top;\n",
       "    }\n",
       "\n",
       "    .dataframe thead th {\n",
       "        text-align: right;\n",
       "    }\n",
       "</style>\n",
       "<table border=\"1\" class=\"dataframe\">\n",
       "  <thead>\n",
       "    <tr style=\"text-align: right;\">\n",
       "      <th></th>\n",
       "      <th>CreditScore</th>\n",
       "      <th>Age</th>\n",
       "      <th>Tenure</th>\n",
       "      <th>Balance</th>\n",
       "      <th>NumOfProducts</th>\n",
       "      <th>EstimatedSalary</th>\n",
       "      <th>Exited</th>\n",
       "      <th>Geography_Germany</th>\n",
       "      <th>Geography_Spain</th>\n",
       "      <th>Gender_Male</th>\n",
       "      <th>HasCrCard_1</th>\n",
       "      <th>IsActiveMember_1</th>\n",
       "    </tr>\n",
       "  </thead>\n",
       "  <tbody>\n",
       "    <tr>\n",
       "      <th>0</th>\n",
       "      <td>619</td>\n",
       "      <td>42</td>\n",
       "      <td>2</td>\n",
       "      <td>0.00</td>\n",
       "      <td>1</td>\n",
       "      <td>101348.88</td>\n",
       "      <td>1</td>\n",
       "      <td>0</td>\n",
       "      <td>0</td>\n",
       "      <td>0</td>\n",
       "      <td>1</td>\n",
       "      <td>1</td>\n",
       "    </tr>\n",
       "    <tr>\n",
       "      <th>1</th>\n",
       "      <td>608</td>\n",
       "      <td>41</td>\n",
       "      <td>1</td>\n",
       "      <td>83807.86</td>\n",
       "      <td>1</td>\n",
       "      <td>112542.58</td>\n",
       "      <td>0</td>\n",
       "      <td>0</td>\n",
       "      <td>1</td>\n",
       "      <td>0</td>\n",
       "      <td>0</td>\n",
       "      <td>1</td>\n",
       "    </tr>\n",
       "    <tr>\n",
       "      <th>2</th>\n",
       "      <td>502</td>\n",
       "      <td>42</td>\n",
       "      <td>8</td>\n",
       "      <td>159660.80</td>\n",
       "      <td>3</td>\n",
       "      <td>113931.57</td>\n",
       "      <td>1</td>\n",
       "      <td>0</td>\n",
       "      <td>0</td>\n",
       "      <td>0</td>\n",
       "      <td>1</td>\n",
       "      <td>0</td>\n",
       "    </tr>\n",
       "    <tr>\n",
       "      <th>3</th>\n",
       "      <td>699</td>\n",
       "      <td>39</td>\n",
       "      <td>1</td>\n",
       "      <td>0.00</td>\n",
       "      <td>2</td>\n",
       "      <td>93826.63</td>\n",
       "      <td>0</td>\n",
       "      <td>0</td>\n",
       "      <td>0</td>\n",
       "      <td>0</td>\n",
       "      <td>0</td>\n",
       "      <td>0</td>\n",
       "    </tr>\n",
       "    <tr>\n",
       "      <th>4</th>\n",
       "      <td>850</td>\n",
       "      <td>43</td>\n",
       "      <td>2</td>\n",
       "      <td>125510.82</td>\n",
       "      <td>1</td>\n",
       "      <td>79084.10</td>\n",
       "      <td>0</td>\n",
       "      <td>0</td>\n",
       "      <td>1</td>\n",
       "      <td>0</td>\n",
       "      <td>1</td>\n",
       "      <td>1</td>\n",
       "    </tr>\n",
       "  </tbody>\n",
       "</table>\n",
       "</div>"
      ],
      "text/plain": [
       "   CreditScore  Age  Tenure    Balance  NumOfProducts  EstimatedSalary  \\\n",
       "0          619   42       2       0.00              1        101348.88   \n",
       "1          608   41       1   83807.86              1        112542.58   \n",
       "2          502   42       8  159660.80              3        113931.57   \n",
       "3          699   39       1       0.00              2         93826.63   \n",
       "4          850   43       2  125510.82              1         79084.10   \n",
       "\n",
       "   Exited  Geography_Germany  Geography_Spain  Gender_Male  HasCrCard_1  \\\n",
       "0       1                  0                0            0            1   \n",
       "1       0                  0                1            0            0   \n",
       "2       1                  0                0            0            1   \n",
       "3       0                  0                0            0            0   \n",
       "4       0                  0                1            0            1   \n",
       "\n",
       "   IsActiveMember_1  \n",
       "0                 1  \n",
       "1                 1  \n",
       "2                 0  \n",
       "3                 0  \n",
       "4                 1  "
      ]
     },
     "execution_count": 11,
     "metadata": {},
     "output_type": "execute_result"
    }
   ],
   "source": [
    "# dummify categorical variable\n",
    "dummy_variable = [i for i in categorical_variable if i != 'Exited']\n",
    "df_dummy = pd.get_dummies(df_new,drop_first = True,columns =dummy_variable )\n",
    "df_dummy.head()"
   ]
  },
  {
   "cell_type": "markdown",
   "id": "9781efa8",
   "metadata": {},
   "source": [
    "## H.\n",
    "\n",
    "I picked the random state value as 18 because the street I live is \"18 shawmut terrace\"."
   ]
  },
  {
   "cell_type": "code",
   "execution_count": 12,
   "id": "3f619034",
   "metadata": {},
   "outputs": [],
   "source": [
    "## create data patition\n",
    "from sklearn.model_selection import train_test_split as tts\n",
    "import random\n",
    "X = df_dummy.drop(output_var, axis=1)\n",
    "y = df_dummy[output_var]\n",
    "X_train, X_test, y_train, y_test = tts(X,y, test_size=0.4,random_state = 18)"
   ]
  },
  {
   "cell_type": "code",
   "execution_count": 13,
   "id": "66aa94c3",
   "metadata": {},
   "outputs": [
    {
     "name": "stdout",
     "output_type": "stream",
     "text": [
      "(6000, 11) (4000, 11) <class 'pandas.core.frame.DataFrame'> <class 'pandas.core.frame.DataFrame'>\n"
     ]
    }
   ],
   "source": [
    "# check whether the patition is correct\n",
    "print(X_train.shape, X_test.shape, type(X_train), type(X_test))"
   ]
  },
  {
   "cell_type": "markdown",
   "id": "008c9626",
   "metadata": {},
   "source": [
    "## I.\n",
    "\n",
    "From the comparision showed below, I think \"Age\", \"Tenure\", and \"Balance\" could have higher impact on customer leaving, since their means show obvious differences for those who exited and those who were not."
   ]
  },
  {
   "cell_type": "code",
   "execution_count": 14,
   "id": "067de698",
   "metadata": {},
   "outputs": [
    {
     "data": {
      "text/html": [
       "<div>\n",
       "<style scoped>\n",
       "    .dataframe tbody tr th:only-of-type {\n",
       "        vertical-align: middle;\n",
       "    }\n",
       "\n",
       "    .dataframe tbody tr th {\n",
       "        vertical-align: top;\n",
       "    }\n",
       "\n",
       "    .dataframe thead th {\n",
       "        text-align: right;\n",
       "    }\n",
       "</style>\n",
       "<table border=\"1\" class=\"dataframe\">\n",
       "  <thead>\n",
       "    <tr style=\"text-align: right;\">\n",
       "      <th></th>\n",
       "      <th>Exited</th>\n",
       "      <th>0</th>\n",
       "      <th>1</th>\n",
       "    </tr>\n",
       "  </thead>\n",
       "  <tbody>\n",
       "    <tr>\n",
       "      <th rowspan=\"8\" valign=\"top\">CreditScore</th>\n",
       "      <th>count</th>\n",
       "      <td>4780.00</td>\n",
       "      <td>1220.00</td>\n",
       "    </tr>\n",
       "    <tr>\n",
       "      <th>mean</th>\n",
       "      <td>651.61</td>\n",
       "      <td>646.79</td>\n",
       "    </tr>\n",
       "    <tr>\n",
       "      <th>std</th>\n",
       "      <td>95.73</td>\n",
       "      <td>101.04</td>\n",
       "    </tr>\n",
       "    <tr>\n",
       "      <th>min</th>\n",
       "      <td>405.00</td>\n",
       "      <td>350.00</td>\n",
       "    </tr>\n",
       "    <tr>\n",
       "      <th>25%</th>\n",
       "      <td>585.00</td>\n",
       "      <td>578.75</td>\n",
       "    </tr>\n",
       "    <tr>\n",
       "      <th>50%</th>\n",
       "      <td>653.00</td>\n",
       "      <td>647.00</td>\n",
       "    </tr>\n",
       "    <tr>\n",
       "      <th>75%</th>\n",
       "      <td>717.25</td>\n",
       "      <td>718.00</td>\n",
       "    </tr>\n",
       "    <tr>\n",
       "      <th>max</th>\n",
       "      <td>850.00</td>\n",
       "      <td>850.00</td>\n",
       "    </tr>\n",
       "    <tr>\n",
       "      <th rowspan=\"8\" valign=\"top\">Age</th>\n",
       "      <th>count</th>\n",
       "      <td>4780.00</td>\n",
       "      <td>1220.00</td>\n",
       "    </tr>\n",
       "    <tr>\n",
       "      <th>mean</th>\n",
       "      <td>37.45</td>\n",
       "      <td>44.64</td>\n",
       "    </tr>\n",
       "    <tr>\n",
       "      <th>std</th>\n",
       "      <td>10.10</td>\n",
       "      <td>9.66</td>\n",
       "    </tr>\n",
       "    <tr>\n",
       "      <th>min</th>\n",
       "      <td>18.00</td>\n",
       "      <td>18.00</td>\n",
       "    </tr>\n",
       "    <tr>\n",
       "      <th>25%</th>\n",
       "      <td>31.00</td>\n",
       "      <td>38.00</td>\n",
       "    </tr>\n",
       "    <tr>\n",
       "      <th>50%</th>\n",
       "      <td>36.00</td>\n",
       "      <td>44.00</td>\n",
       "    </tr>\n",
       "    <tr>\n",
       "      <th>75%</th>\n",
       "      <td>41.00</td>\n",
       "      <td>51.00</td>\n",
       "    </tr>\n",
       "    <tr>\n",
       "      <th>max</th>\n",
       "      <td>92.00</td>\n",
       "      <td>71.00</td>\n",
       "    </tr>\n",
       "    <tr>\n",
       "      <th rowspan=\"8\" valign=\"top\">Tenure</th>\n",
       "      <th>count</th>\n",
       "      <td>4780.00</td>\n",
       "      <td>1220.00</td>\n",
       "    </tr>\n",
       "    <tr>\n",
       "      <th>mean</th>\n",
       "      <td>5.02</td>\n",
       "      <td>4.90</td>\n",
       "    </tr>\n",
       "    <tr>\n",
       "      <th>std</th>\n",
       "      <td>2.89</td>\n",
       "      <td>2.95</td>\n",
       "    </tr>\n",
       "    <tr>\n",
       "      <th>min</th>\n",
       "      <td>0.00</td>\n",
       "      <td>0.00</td>\n",
       "    </tr>\n",
       "    <tr>\n",
       "      <th>25%</th>\n",
       "      <td>3.00</td>\n",
       "      <td>2.00</td>\n",
       "    </tr>\n",
       "    <tr>\n",
       "      <th>50%</th>\n",
       "      <td>5.00</td>\n",
       "      <td>5.00</td>\n",
       "    </tr>\n",
       "    <tr>\n",
       "      <th>75%</th>\n",
       "      <td>8.00</td>\n",
       "      <td>7.00</td>\n",
       "    </tr>\n",
       "    <tr>\n",
       "      <th>max</th>\n",
       "      <td>10.00</td>\n",
       "      <td>10.00</td>\n",
       "    </tr>\n",
       "    <tr>\n",
       "      <th rowspan=\"8\" valign=\"top\">Balance</th>\n",
       "      <th>count</th>\n",
       "      <td>4780.00</td>\n",
       "      <td>1220.00</td>\n",
       "    </tr>\n",
       "    <tr>\n",
       "      <th>mean</th>\n",
       "      <td>74351.69</td>\n",
       "      <td>91230.56</td>\n",
       "    </tr>\n",
       "    <tr>\n",
       "      <th>std</th>\n",
       "      <td>62678.66</td>\n",
       "      <td>58614.89</td>\n",
       "    </tr>\n",
       "    <tr>\n",
       "      <th>min</th>\n",
       "      <td>0.00</td>\n",
       "      <td>0.00</td>\n",
       "    </tr>\n",
       "    <tr>\n",
       "      <th>25%</th>\n",
       "      <td>0.00</td>\n",
       "      <td>0.00</td>\n",
       "    </tr>\n",
       "    <tr>\n",
       "      <th>50%</th>\n",
       "      <td>94475.64</td>\n",
       "      <td>110435.34</td>\n",
       "    </tr>\n",
       "    <tr>\n",
       "      <th>75%</th>\n",
       "      <td>127545.06</td>\n",
       "      <td>131384.56</td>\n",
       "    </tr>\n",
       "    <tr>\n",
       "      <th>max</th>\n",
       "      <td>214346.96</td>\n",
       "      <td>250898.09</td>\n",
       "    </tr>\n",
       "    <tr>\n",
       "      <th rowspan=\"8\" valign=\"top\">NumOfProducts</th>\n",
       "      <th>count</th>\n",
       "      <td>4780.00</td>\n",
       "      <td>1220.00</td>\n",
       "    </tr>\n",
       "    <tr>\n",
       "      <th>mean</th>\n",
       "      <td>1.53</td>\n",
       "      <td>1.46</td>\n",
       "    </tr>\n",
       "    <tr>\n",
       "      <th>std</th>\n",
       "      <td>0.51</td>\n",
       "      <td>0.80</td>\n",
       "    </tr>\n",
       "    <tr>\n",
       "      <th>min</th>\n",
       "      <td>1.00</td>\n",
       "      <td>1.00</td>\n",
       "    </tr>\n",
       "    <tr>\n",
       "      <th>25%</th>\n",
       "      <td>1.00</td>\n",
       "      <td>1.00</td>\n",
       "    </tr>\n",
       "    <tr>\n",
       "      <th>50%</th>\n",
       "      <td>2.00</td>\n",
       "      <td>1.00</td>\n",
       "    </tr>\n",
       "    <tr>\n",
       "      <th>75%</th>\n",
       "      <td>2.00</td>\n",
       "      <td>2.00</td>\n",
       "    </tr>\n",
       "    <tr>\n",
       "      <th>max</th>\n",
       "      <td>3.00</td>\n",
       "      <td>4.00</td>\n",
       "    </tr>\n",
       "    <tr>\n",
       "      <th rowspan=\"8\" valign=\"top\">EstimatedSalary</th>\n",
       "      <th>count</th>\n",
       "      <td>4780.00</td>\n",
       "      <td>1220.00</td>\n",
       "    </tr>\n",
       "    <tr>\n",
       "      <th>mean</th>\n",
       "      <td>99781.91</td>\n",
       "      <td>99100.62</td>\n",
       "    </tr>\n",
       "    <tr>\n",
       "      <th>std</th>\n",
       "      <td>57558.35</td>\n",
       "      <td>57539.10</td>\n",
       "    </tr>\n",
       "    <tr>\n",
       "      <th>min</th>\n",
       "      <td>90.07</td>\n",
       "      <td>417.41</td>\n",
       "    </tr>\n",
       "    <tr>\n",
       "      <th>25%</th>\n",
       "      <td>50456.60</td>\n",
       "      <td>49683.95</td>\n",
       "    </tr>\n",
       "    <tr>\n",
       "      <th>50%</th>\n",
       "      <td>99096.86</td>\n",
       "      <td>98287.79</td>\n",
       "    </tr>\n",
       "    <tr>\n",
       "      <th>75%</th>\n",
       "      <td>148845.49</td>\n",
       "      <td>148465.04</td>\n",
       "    </tr>\n",
       "    <tr>\n",
       "      <th>max</th>\n",
       "      <td>199970.74</td>\n",
       "      <td>199808.10</td>\n",
       "    </tr>\n",
       "  </tbody>\n",
       "</table>\n",
       "</div>"
      ],
      "text/plain": [
       "Exited                         0          1\n",
       "CreditScore     count    4780.00    1220.00\n",
       "                mean      651.61     646.79\n",
       "                std        95.73     101.04\n",
       "                min       405.00     350.00\n",
       "                25%       585.00     578.75\n",
       "                50%       653.00     647.00\n",
       "                75%       717.25     718.00\n",
       "                max       850.00     850.00\n",
       "Age             count    4780.00    1220.00\n",
       "                mean       37.45      44.64\n",
       "                std        10.10       9.66\n",
       "                min        18.00      18.00\n",
       "                25%        31.00      38.00\n",
       "                50%        36.00      44.00\n",
       "                75%        41.00      51.00\n",
       "                max        92.00      71.00\n",
       "Tenure          count    4780.00    1220.00\n",
       "                mean        5.02       4.90\n",
       "                std         2.89       2.95\n",
       "                min         0.00       0.00\n",
       "                25%         3.00       2.00\n",
       "                50%         5.00       5.00\n",
       "                75%         8.00       7.00\n",
       "                max        10.00      10.00\n",
       "Balance         count    4780.00    1220.00\n",
       "                mean    74351.69   91230.56\n",
       "                std     62678.66   58614.89\n",
       "                min         0.00       0.00\n",
       "                25%         0.00       0.00\n",
       "                50%     94475.64  110435.34\n",
       "                75%    127545.06  131384.56\n",
       "                max    214346.96  250898.09\n",
       "NumOfProducts   count    4780.00    1220.00\n",
       "                mean        1.53       1.46\n",
       "                std         0.51       0.80\n",
       "                min         1.00       1.00\n",
       "                25%         1.00       1.00\n",
       "                50%         2.00       1.00\n",
       "                75%         2.00       2.00\n",
       "                max         3.00       4.00\n",
       "EstimatedSalary count    4780.00    1220.00\n",
       "                mean    99781.91   99100.62\n",
       "                std     57558.35   57539.10\n",
       "                min        90.07     417.41\n",
       "                25%     50456.60   49683.95\n",
       "                50%     99096.86   98287.79\n",
       "                75%    148845.49  148465.04\n",
       "                max    199970.74  199808.10"
      ]
     },
     "execution_count": 14,
     "metadata": {},
     "output_type": "execute_result"
    }
   ],
   "source": [
    "## check the mean of numeric variables\n",
    "combine_training = pd.concat([X_train,y_train],axis = 1)\n",
    "grouped = combine_training.groupby('Exited')\n",
    "grouped[numeric_variable].describe().T.round(2)"
   ]
  },
  {
   "cell_type": "markdown",
   "id": "19693657",
   "metadata": {},
   "source": [
    "## Iteration I\n",
    "### J."
   ]
  },
  {
   "cell_type": "code",
   "execution_count": 15,
   "id": "249654cb",
   "metadata": {},
   "outputs": [],
   "source": [
    "import statsmodels.api as sm\n",
    "import matplotlib.pyplot as plt\n",
    "import seaborn as sns\n",
    "from sklearn.linear_model import LogisticRegression\n",
    "from sklearn.metrics import accuracy_score\n",
    "from sklearn.metrics import confusion_matrix"
   ]
  },
  {
   "cell_type": "code",
   "execution_count": 16,
   "id": "921f240d",
   "metadata": {
    "scrolled": true
   },
   "outputs": [
    {
     "name": "stdout",
     "output_type": "stream",
     "text": [
      "Optimization terminated successfully.\n",
      "         Current function value: 0.430472\n",
      "         Iterations 6\n"
     ]
    }
   ],
   "source": [
    "# building logistic regression model with statemodels\n",
    "logit_model = sm.Logit(y_train,sm.add_constant(X_train))\n",
    "\n",
    "# fit the model\n",
    "result = logit_model.fit()\n"
   ]
  },
  {
   "cell_type": "markdown",
   "id": "097c2725",
   "metadata": {},
   "source": [
    "### K. Examing model result\n",
    "\n",
    "#### a. Numeric Variable\n",
    "\"CreditScore\", \"Tenure\", and \"EstimatedSalary\" have hign p-value (>0.05), indicating they are not play strong roles in predicting if the customer will exit.\n",
    "\n",
    "#### b. Categorical Variable\n",
    "\"HasCrCard\" also shows high p-value (0.578). \n",
    "\n",
    "As for \"Geography\", though only the level of 'Spain' shows high p-value I will still remove the whole variable in the next model."
   ]
  },
  {
   "cell_type": "code",
   "execution_count": 17,
   "id": "719b4260",
   "metadata": {},
   "outputs": [
    {
     "name": "stdout",
     "output_type": "stream",
     "text": [
      "                           Logit Regression Results                           \n",
      "==============================================================================\n",
      "Dep. Variable:                 Exited   No. Observations:                 6000\n",
      "Model:                          Logit   Df Residuals:                     5988\n",
      "Method:                           MLE   Df Model:                           11\n",
      "Date:                Sun, 29 Oct 2023   Pseudo R-squ.:                  0.1476\n",
      "Time:                        23:22:49   Log-Likelihood:                -2582.8\n",
      "converged:                       True   LL-Null:                       -3029.9\n",
      "Covariance Type:            nonrobust   LLR p-value:                1.092e-184\n",
      "=====================================================================================\n",
      "                        coef    std err          z      P>|z|      [0.025      0.975]\n",
      "-------------------------------------------------------------------------------------\n",
      "const                -3.2736      0.315    -10.390      0.000      -3.891      -2.656\n",
      "CreditScore          -0.0005      0.000     -1.360      0.174      -0.001       0.000\n",
      "Age                   0.0707      0.003     21.286      0.000       0.064       0.077\n",
      "Tenure               -0.0190      0.012     -1.579      0.114      -0.042       0.005\n",
      "Balance            1.664e-06   6.66e-07      2.497      0.013    3.58e-07    2.97e-06\n",
      "NumOfProducts        -0.1253      0.061     -2.049      0.040      -0.245      -0.005\n",
      "EstimatedSalary   -3.203e-07   6.09e-07     -0.526      0.599   -1.51e-06    8.73e-07\n",
      "Geography_Germany     0.8467      0.087      9.783      0.000       0.677       1.016\n",
      "Geography_Spain      -0.0371      0.093     -0.400      0.689      -0.219       0.145\n",
      "Gender_Male          -0.4461      0.070     -6.367      0.000      -0.583      -0.309\n",
      "HasCrCard_1          -0.0426      0.077     -0.556      0.578      -0.193       0.108\n",
      "IsActiveMember_1     -1.0590      0.074    -14.273      0.000      -1.204      -0.914\n",
      "=====================================================================================\n"
     ]
    }
   ],
   "source": [
    "print(result.summary())"
   ]
  },
  {
   "cell_type": "markdown",
   "id": "8e64cfbe",
   "metadata": {},
   "source": [
    "## Iteration 2\n",
    "### L. Build 2nd model after removing variable with high p-value in 1st model\n",
    "\n",
    "#### a. 2nd model result\n",
    "From the result below, the 2nd model also has a low p-value.\n",
    "\n",
    "#### b. Numeric variable\n",
    "In 2nd model, \"NumOfProducts\" has high p-value (0.354).\n",
    "\n",
    "#### c. Categorical variable\n",
    "All categorical variable have low p-value in 2nd model.\n"
   ]
  },
  {
   "cell_type": "code",
   "execution_count": 18,
   "id": "a673a09e",
   "metadata": {},
   "outputs": [
    {
     "name": "stdout",
     "output_type": "stream",
     "text": [
      "Optimization terminated successfully.\n",
      "         Current function value: 0.440128\n",
      "         Iterations 6\n",
      "                           Logit Regression Results                           \n",
      "==============================================================================\n",
      "Dep. Variable:                 Exited   No. Observations:                 6000\n",
      "Model:                          Logit   Df Residuals:                     5994\n",
      "Method:                           MLE   Df Model:                            5\n",
      "Date:                Sun, 29 Oct 2023   Pseudo R-squ.:                  0.1284\n",
      "Time:                        23:22:49   Log-Likelihood:                -2640.8\n",
      "converged:                       True   LL-Null:                       -3029.9\n",
      "Covariance Type:            nonrobust   LLR p-value:                5.652e-166\n",
      "====================================================================================\n",
      "                       coef    std err          z      P>|z|      [0.025      0.975]\n",
      "------------------------------------------------------------------------------------\n",
      "const               -3.8283      0.185    -20.667      0.000      -4.191      -3.465\n",
      "Age                  0.0711      0.003     21.623      0.000       0.065       0.078\n",
      "Balance           4.406e-06   5.91e-07      7.452      0.000    3.25e-06    5.57e-06\n",
      "NumOfProducts       -0.0556      0.060     -0.927      0.354      -0.173       0.062\n",
      "Gender_Male         -0.4729      0.069     -6.842      0.000      -0.608      -0.337\n",
      "IsActiveMember_1    -1.0659      0.073    -14.532      0.000      -1.210      -0.922\n",
      "====================================================================================\n"
     ]
    }
   ],
   "source": [
    "drop_variable = ['CreditScore','Tenure','EstimatedSalary','Geography_Germany','Geography_Spain','HasCrCard_1']\n",
    "X_train_2 = X_train.drop(drop_variable,axis = 1)\n",
    "logit_model_2 = sm.Logit(y_train,sm.add_constant(X_train_2))\n",
    "result_2 = logit_model_2.fit()\n",
    "print(result_2.summary())"
   ]
  },
  {
   "cell_type": "markdown",
   "id": "84ece361",
   "metadata": {},
   "source": [
    "### M. Build 3rd model after removing variable with high p-value in 2nd model --> Final Model"
   ]
  },
  {
   "cell_type": "code",
   "execution_count": 19,
   "id": "c567f7ae",
   "metadata": {},
   "outputs": [
    {
     "name": "stdout",
     "output_type": "stream",
     "text": [
      "Optimization terminated successfully.\n",
      "         Current function value: 0.440200\n",
      "         Iterations 6\n",
      "                           Logit Regression Results                           \n",
      "==============================================================================\n",
      "Dep. Variable:                 Exited   No. Observations:                 6000\n",
      "Model:                          Logit   Df Residuals:                     5995\n",
      "Method:                           MLE   Df Model:                            4\n",
      "Date:                Sun, 29 Oct 2023   Pseudo R-squ.:                  0.1283\n",
      "Time:                        23:22:49   Log-Likelihood:                -2641.2\n",
      "converged:                       True   LL-Null:                       -3029.9\n",
      "Covariance Type:            nonrobust   LLR p-value:                5.848e-167\n",
      "====================================================================================\n",
      "                       coef    std err          z      P>|z|      [0.025      0.975]\n",
      "------------------------------------------------------------------------------------\n",
      "const               -3.9272      0.152    -25.872      0.000      -4.225      -3.630\n",
      "Age                  0.0712      0.003     21.657      0.000       0.065       0.078\n",
      "Balance           4.547e-06   5.71e-07      7.965      0.000    3.43e-06    5.67e-06\n",
      "Gender_Male         -0.4715      0.069     -6.824      0.000      -0.607      -0.336\n",
      "IsActiveMember_1    -1.0670      0.073    -14.547      0.000      -1.211      -0.923\n",
      "====================================================================================\n"
     ]
    }
   ],
   "source": [
    "drop_variable = ['CreditScore','Tenure','EstimatedSalary','Geography_Germany','Geography_Spain','HasCrCard_1','NumOfProducts']\n",
    "X_train_3 = X_train.drop(drop_variable,axis = 1)\n",
    "logit_model_3 = sm.Logit(y_train,sm.add_constant(X_train_3))\n",
    "result_3 = logit_model_3.fit()\n",
    "print(result_3.summary())"
   ]
  },
  {
   "cell_type": "markdown",
   "id": "7181e15e",
   "metadata": {},
   "source": [
    "### N. Using scikit-learn to build logistic regression model"
   ]
  },
  {
   "cell_type": "code",
   "execution_count": 20,
   "id": "0cdf57f6",
   "metadata": {},
   "outputs": [
    {
     "data": {
      "text/html": [
       "<style>#sk-container-id-1 {color: black;background-color: white;}#sk-container-id-1 pre{padding: 0;}#sk-container-id-1 div.sk-toggleable {background-color: white;}#sk-container-id-1 label.sk-toggleable__label {cursor: pointer;display: block;width: 100%;margin-bottom: 0;padding: 0.3em;box-sizing: border-box;text-align: center;}#sk-container-id-1 label.sk-toggleable__label-arrow:before {content: \"▸\";float: left;margin-right: 0.25em;color: #696969;}#sk-container-id-1 label.sk-toggleable__label-arrow:hover:before {color: black;}#sk-container-id-1 div.sk-estimator:hover label.sk-toggleable__label-arrow:before {color: black;}#sk-container-id-1 div.sk-toggleable__content {max-height: 0;max-width: 0;overflow: hidden;text-align: left;background-color: #f0f8ff;}#sk-container-id-1 div.sk-toggleable__content pre {margin: 0.2em;color: black;border-radius: 0.25em;background-color: #f0f8ff;}#sk-container-id-1 input.sk-toggleable__control:checked~div.sk-toggleable__content {max-height: 200px;max-width: 100%;overflow: auto;}#sk-container-id-1 input.sk-toggleable__control:checked~label.sk-toggleable__label-arrow:before {content: \"▾\";}#sk-container-id-1 div.sk-estimator input.sk-toggleable__control:checked~label.sk-toggleable__label {background-color: #d4ebff;}#sk-container-id-1 div.sk-label input.sk-toggleable__control:checked~label.sk-toggleable__label {background-color: #d4ebff;}#sk-container-id-1 input.sk-hidden--visually {border: 0;clip: rect(1px 1px 1px 1px);clip: rect(1px, 1px, 1px, 1px);height: 1px;margin: -1px;overflow: hidden;padding: 0;position: absolute;width: 1px;}#sk-container-id-1 div.sk-estimator {font-family: monospace;background-color: #f0f8ff;border: 1px dotted black;border-radius: 0.25em;box-sizing: border-box;margin-bottom: 0.5em;}#sk-container-id-1 div.sk-estimator:hover {background-color: #d4ebff;}#sk-container-id-1 div.sk-parallel-item::after {content: \"\";width: 100%;border-bottom: 1px solid gray;flex-grow: 1;}#sk-container-id-1 div.sk-label:hover label.sk-toggleable__label {background-color: #d4ebff;}#sk-container-id-1 div.sk-serial::before {content: \"\";position: absolute;border-left: 1px solid gray;box-sizing: border-box;top: 0;bottom: 0;left: 50%;z-index: 0;}#sk-container-id-1 div.sk-serial {display: flex;flex-direction: column;align-items: center;background-color: white;padding-right: 0.2em;padding-left: 0.2em;position: relative;}#sk-container-id-1 div.sk-item {position: relative;z-index: 1;}#sk-container-id-1 div.sk-parallel {display: flex;align-items: stretch;justify-content: center;background-color: white;position: relative;}#sk-container-id-1 div.sk-item::before, #sk-container-id-1 div.sk-parallel-item::before {content: \"\";position: absolute;border-left: 1px solid gray;box-sizing: border-box;top: 0;bottom: 0;left: 50%;z-index: -1;}#sk-container-id-1 div.sk-parallel-item {display: flex;flex-direction: column;z-index: 1;position: relative;background-color: white;}#sk-container-id-1 div.sk-parallel-item:first-child::after {align-self: flex-end;width: 50%;}#sk-container-id-1 div.sk-parallel-item:last-child::after {align-self: flex-start;width: 50%;}#sk-container-id-1 div.sk-parallel-item:only-child::after {width: 0;}#sk-container-id-1 div.sk-dashed-wrapped {border: 1px dashed gray;margin: 0 0.4em 0.5em 0.4em;box-sizing: border-box;padding-bottom: 0.4em;background-color: white;}#sk-container-id-1 div.sk-label label {font-family: monospace;font-weight: bold;display: inline-block;line-height: 1.2em;}#sk-container-id-1 div.sk-label-container {text-align: center;}#sk-container-id-1 div.sk-container {/* jupyter's `normalize.less` sets `[hidden] { display: none; }` but bootstrap.min.css set `[hidden] { display: none !important; }` so we also need the `!important` here to be able to override the default hidden behavior on the sphinx rendered scikit-learn.org. See: https://github.com/scikit-learn/scikit-learn/issues/21755 */display: inline-block !important;position: relative;}#sk-container-id-1 div.sk-text-repr-fallback {display: none;}</style><div id=\"sk-container-id-1\" class=\"sk-top-container\"><div class=\"sk-text-repr-fallback\"><pre>LogisticRegression()</pre><b>In a Jupyter environment, please rerun this cell to show the HTML representation or trust the notebook. <br />On GitHub, the HTML representation is unable to render, please try loading this page with nbviewer.org.</b></div><div class=\"sk-container\" hidden><div class=\"sk-item\"><div class=\"sk-estimator sk-toggleable\"><input class=\"sk-toggleable__control sk-hidden--visually\" id=\"sk-estimator-id-1\" type=\"checkbox\" checked><label for=\"sk-estimator-id-1\" class=\"sk-toggleable__label sk-toggleable__label-arrow\">LogisticRegression</label><div class=\"sk-toggleable__content\"><pre>LogisticRegression()</pre></div></div></div></div></div>"
      ],
      "text/plain": [
       "LogisticRegression()"
      ]
     },
     "execution_count": 20,
     "metadata": {},
     "output_type": "execute_result"
    }
   ],
   "source": [
    "## Using scikit-learn to build model\n",
    "logmodel = LogisticRegression()\n",
    "logmodel.fit(X_train_3, y_train.values.ravel())"
   ]
  },
  {
   "cell_type": "markdown",
   "id": "8f9b1894",
   "metadata": {},
   "source": [
    "### O.\n",
    "\n",
    "#### a. Accuracy Rate: 79.56%\n",
    "\n",
    "#### b. Seneitivity Rate: 0%\n",
    "\n",
    "#### c. Specificity Rate: 79.56%\n",
    "\n",
    "#### d. Precision:  0%\n",
    "\n",
    "#### e. Balanced Accuracy: 79.56%"
   ]
  },
  {
   "cell_type": "code",
   "execution_count": 21,
   "id": "e1b72a59",
   "metadata": {},
   "outputs": [
    {
     "data": {
      "text/plain": [
       "0.79575"
      ]
     },
     "execution_count": 21,
     "metadata": {},
     "output_type": "execute_result"
    }
   ],
   "source": [
    "X_test_3 = X_test.drop(drop_variable,axis = 1)\n",
    "\n",
    "predictions2 = logmodel.predict(X_test_3)\n",
    "accuracy_score(y_test, predictions2) "
   ]
  },
  {
   "cell_type": "code",
   "execution_count": 22,
   "id": "5b627bcd",
   "metadata": {},
   "outputs": [
    {
     "name": "stdout",
     "output_type": "stream",
     "text": [
      "[[3183  817]\n",
      " [   0    0]]\n",
      "The accuracy is:  0.79575\n"
     ]
    }
   ],
   "source": [
    "from sklearn.metrics import confusion_matrix, accuracy_score, precision_score, recall_score, balanced_accuracy_score\n",
    "\n",
    "# accuracy scoere\n",
    "conf = confusion_matrix(predictions2,y_test)\n",
    "print(conf)\n",
    "total_conf = sum(sum(conf))\n",
    "accuracy_model = (conf[1,1]+ conf[0,0])/ total_conf\n",
    "print('The accuracy is: ',accuracy_model )"
   ]
  },
  {
   "cell_type": "code",
   "execution_count": 23,
   "id": "f85489c5",
   "metadata": {},
   "outputs": [
    {
     "name": "stdout",
     "output_type": "stream",
     "text": [
      "The sensatiity is:  0.0\n"
     ]
    }
   ],
   "source": [
    "# sensativity\n",
    "sensitivity_model = conf[1,1]/(conf[1,1]+conf[0,1])\n",
    "print('The sensatiity is: ', sensitivity_model )"
   ]
  },
  {
   "cell_type": "code",
   "execution_count": 24,
   "id": "53bfac8f",
   "metadata": {},
   "outputs": [
    {
     "name": "stdout",
     "output_type": "stream",
     "text": [
      "The specificity is:  0.79575\n"
     ]
    }
   ],
   "source": [
    "# specificity\n",
    "specificity = conf[0, 0] / (conf[0, 0] + conf[0, 1])\n",
    "print('The specificity is: ', specificity )"
   ]
  },
  {
   "cell_type": "code",
   "execution_count": 25,
   "id": "fed1dd3b",
   "metadata": {},
   "outputs": [
    {
     "name": "stdout",
     "output_type": "stream",
     "text": [
      "The precision is:  0.0\n"
     ]
    }
   ],
   "source": [
    "# Precision\n",
    "precision = precision_score(predictions2, y_test)\n",
    "print('The precision is: ', precision )"
   ]
  },
  {
   "cell_type": "code",
   "execution_count": 26,
   "id": "d88d228d",
   "metadata": {},
   "outputs": [
    {
     "name": "stdout",
     "output_type": "stream",
     "text": [
      "The balanced accuracy is:  0.79575\n"
     ]
    },
    {
     "name": "stderr",
     "output_type": "stream",
     "text": [
      "/Users/leon/anaconda3/lib/python3.10/site-packages/sklearn/metrics/_classification.py:2184: UserWarning: y_pred contains classes not in y_true\n",
      "  warnings.warn(\"y_pred contains classes not in y_true\")\n"
     ]
    }
   ],
   "source": [
    "# balance accuracy\n",
    "balanced_accuracy = balanced_accuracy_score(predictions2, y_test)\n",
    "print('The balanced accuracy is: ', balanced_accuracy )"
   ]
  },
  {
   "cell_type": "markdown",
   "id": "fb860ee8",
   "metadata": {},
   "source": [
    "### P. Comparing training set with testing set\n",
    "\n",
    "Purpose: detecting overfitting\n",
    "\n",
    "Based on the accuracy rate of training set and testing set from my model, the rate is really similar -- indicating that my model is not overfit."
   ]
  },
  {
   "cell_type": "code",
   "execution_count": 27,
   "id": "a2b59788",
   "metadata": {},
   "outputs": [
    {
     "name": "stdout",
     "output_type": "stream",
     "text": [
      "Training set is: 0.7966666666666666 \n",
      "Testing set is: 0.79575\n"
     ]
    }
   ],
   "source": [
    "# Training \n",
    "predictions = logmodel.predict(X_train_3)\n",
    "print('Training set is:',accuracy_score(y_train, predictions),'\\nTesting set is:',accuracy_score(y_test, predictions2)   )"
   ]
  },
  {
   "cell_type": "markdown",
   "id": "f237340d",
   "metadata": {},
   "source": [
    "### Q. Predict a new customer\n",
    "\n",
    "#### a. \n",
    "My model predicts my customer will leave.\n",
    "\n",
    "#### b.\n",
    "The probability of customer leaving is 74%."
   ]
  },
  {
   "cell_type": "code",
   "execution_count": 28,
   "id": "6399a1f6",
   "metadata": {
    "scrolled": true
   },
   "outputs": [
    {
     "data": {
      "text/html": [
       "<div>\n",
       "<style scoped>\n",
       "    .dataframe tbody tr th:only-of-type {\n",
       "        vertical-align: middle;\n",
       "    }\n",
       "\n",
       "    .dataframe tbody tr th {\n",
       "        vertical-align: top;\n",
       "    }\n",
       "\n",
       "    .dataframe thead th {\n",
       "        text-align: right;\n",
       "    }\n",
       "</style>\n",
       "<table border=\"1\" class=\"dataframe\">\n",
       "  <thead>\n",
       "    <tr style=\"text-align: right;\">\n",
       "      <th></th>\n",
       "      <th>RowNumber</th>\n",
       "      <th>CustomerId</th>\n",
       "      <th>Surname</th>\n",
       "      <th>CreditScore</th>\n",
       "      <th>Geography</th>\n",
       "      <th>Gender</th>\n",
       "      <th>Age</th>\n",
       "      <th>Tenure</th>\n",
       "      <th>Balance</th>\n",
       "      <th>NumOfProducts</th>\n",
       "      <th>HasCrCard</th>\n",
       "      <th>IsActiveMember</th>\n",
       "      <th>EstimatedSalary</th>\n",
       "    </tr>\n",
       "  </thead>\n",
       "  <tbody>\n",
       "    <tr>\n",
       "      <th>10000</th>\n",
       "      <td>10001</td>\n",
       "      <td>555</td>\n",
       "      <td>Leon</td>\n",
       "      <td>730</td>\n",
       "      <td>Spain</td>\n",
       "      <td>Male</td>\n",
       "      <td>35</td>\n",
       "      <td>3</td>\n",
       "      <td>66666.0</td>\n",
       "      <td>3.0</td>\n",
       "      <td>1</td>\n",
       "      <td>1</td>\n",
       "      <td>90000.0</td>\n",
       "    </tr>\n",
       "  </tbody>\n",
       "</table>\n",
       "</div>"
      ],
      "text/plain": [
       "       RowNumber  CustomerId Surname  CreditScore Geography Gender  Age  \\\n",
       "10000      10001         555    Leon          730     Spain   Male   35   \n",
       "\n",
       "       Tenure  Balance  NumOfProducts  HasCrCard  IsActiveMember  \\\n",
       "10000       3  66666.0            3.0          1               1   \n",
       "\n",
       "       EstimatedSalary  \n",
       "10000          90000.0  "
      ]
     },
     "execution_count": 28,
     "metadata": {},
     "output_type": "execute_result"
    }
   ],
   "source": [
    "# Create a new customer\n",
    "mycustomer = pd.DataFrame({\n",
    "    \"RowNumber\": 10001,\n",
    "    \"CustomerId\": 555,\n",
    "    \"Surname\": ['Leon'],\n",
    "    \"CreditScore\": [730],\n",
    "    'Geography': ['Spain'],\n",
    "    'Gender': ['Male'],\n",
    "    'Age': [35],\n",
    "    'Tenure': [3],\n",
    "    'Balance': [66666],\n",
    "    'NumOfProducts': 3.0,\n",
    "    'HasCrCard': 1,\n",
    "    'IsActiveMember': 1,\n",
    "    'EstimatedSalary': 90000\n",
    "})\n",
    "df_train = pd.concat([df.drop(\"Exited\",axis = 1),mycustomer],ignore_index=True)\n",
    "df_train[df_train[\"CustomerId\"] == 555]"
   ]
  },
  {
   "cell_type": "code",
   "execution_count": 29,
   "id": "6e111ee0",
   "metadata": {
    "scrolled": true
   },
   "outputs": [
    {
     "data": {
      "text/html": [
       "<div>\n",
       "<style scoped>\n",
       "    .dataframe tbody tr th:only-of-type {\n",
       "        vertical-align: middle;\n",
       "    }\n",
       "\n",
       "    .dataframe tbody tr th {\n",
       "        vertical-align: top;\n",
       "    }\n",
       "\n",
       "    .dataframe thead th {\n",
       "        text-align: right;\n",
       "    }\n",
       "</style>\n",
       "<table border=\"1\" class=\"dataframe\">\n",
       "  <thead>\n",
       "    <tr style=\"text-align: right;\">\n",
       "      <th></th>\n",
       "      <th>Age</th>\n",
       "      <th>Balance</th>\n",
       "      <th>Gender_Male</th>\n",
       "      <th>IsActiveMember_1</th>\n",
       "    </tr>\n",
       "  </thead>\n",
       "  <tbody>\n",
       "    <tr>\n",
       "      <th>10000</th>\n",
       "      <td>35</td>\n",
       "      <td>66666.0</td>\n",
       "      <td>1</td>\n",
       "      <td>1</td>\n",
       "    </tr>\n",
       "  </tbody>\n",
       "</table>\n",
       "</div>"
      ],
      "text/plain": [
       "       Age  Balance  Gender_Male  IsActiveMember_1\n",
       "10000   35  66666.0            1                 1"
      ]
     },
     "execution_count": 29,
     "metadata": {},
     "output_type": "execute_result"
    }
   ],
   "source": [
    "# prepare my customer\n",
    "df_logit = df_train[['Age','Balance','Gender','IsActiveMember']]\n",
    "mycustomer_dummy = pd.get_dummies(df_logit,drop_first=True,columns = ['Gender','IsActiveMember']).iloc[10000:10001,:]\n",
    "mycustomer_dummy"
   ]
  },
  {
   "cell_type": "code",
   "execution_count": 30,
   "id": "bac2a775",
   "metadata": {},
   "outputs": [
    {
     "name": "stdout",
     "output_type": "stream",
     "text": [
      "[0]\n",
      "Customer will leave\n"
     ]
    }
   ],
   "source": [
    "# Predict if my customer will leave or not\n",
    "prediction_mycustomer = logmodel.predict(mycustomer_dummy)\n",
    "print(prediction_mycustomer)\n",
    "\n",
    "if prediction_mycustomer == 0:\n",
    "    print(\"Customer will leave\")\n",
    "else:\n",
    "    print(\"Customer will exit\")"
   ]
  },
  {
   "cell_type": "code",
   "execution_count": 31,
   "id": "cdbf4dd3",
   "metadata": {},
   "outputs": [
    {
     "name": "stdout",
     "output_type": "stream",
     "text": [
      "The probability that my customer will leave is:  0.74\n"
     ]
    }
   ],
   "source": [
    "# The probability that the customer will leave\n",
    "prediction_mycustomer_prob = logmodel.predict_proba(mycustomer_dummy)\n",
    "print('The probability that my customer will leave is: ', prediction_mycustomer_prob[0,0].round(2))"
   ]
  },
  {
   "cell_type": "markdown",
   "id": "95a0aefc",
   "metadata": {},
   "source": [
    "### R.\n",
    "\n",
    "If the value is outside of the range of training data, it might make our prediction not reliable, since Logistic regression models make assumptions about the relationship between the input variables (features) and the target variable based on the observed data, so using input values outside the range seen during training would require extrapolating beyond the available data, which can lead to unreliable predictions."
   ]
  },
  {
   "cell_type": "code",
   "execution_count": 32,
   "id": "e7640945",
   "metadata": {},
   "outputs": [
    {
     "data": {
      "text/html": [
       "<div>\n",
       "<style scoped>\n",
       "    .dataframe tbody tr th:only-of-type {\n",
       "        vertical-align: middle;\n",
       "    }\n",
       "\n",
       "    .dataframe tbody tr th {\n",
       "        vertical-align: top;\n",
       "    }\n",
       "\n",
       "    .dataframe thead th {\n",
       "        text-align: right;\n",
       "    }\n",
       "</style>\n",
       "<table border=\"1\" class=\"dataframe\">\n",
       "  <thead>\n",
       "    <tr style=\"text-align: right;\">\n",
       "      <th></th>\n",
       "      <th>Age</th>\n",
       "      <th>Balance</th>\n",
       "    </tr>\n",
       "  </thead>\n",
       "  <tbody>\n",
       "    <tr>\n",
       "      <th>count</th>\n",
       "      <td>10000.000000</td>\n",
       "      <td>10000.000000</td>\n",
       "    </tr>\n",
       "    <tr>\n",
       "      <th>mean</th>\n",
       "      <td>38.921800</td>\n",
       "      <td>76485.889288</td>\n",
       "    </tr>\n",
       "    <tr>\n",
       "      <th>std</th>\n",
       "      <td>10.487806</td>\n",
       "      <td>62397.405202</td>\n",
       "    </tr>\n",
       "    <tr>\n",
       "      <th>min</th>\n",
       "      <td>18.000000</td>\n",
       "      <td>0.000000</td>\n",
       "    </tr>\n",
       "    <tr>\n",
       "      <th>25%</th>\n",
       "      <td>32.000000</td>\n",
       "      <td>0.000000</td>\n",
       "    </tr>\n",
       "    <tr>\n",
       "      <th>50%</th>\n",
       "      <td>37.000000</td>\n",
       "      <td>97198.540000</td>\n",
       "    </tr>\n",
       "    <tr>\n",
       "      <th>75%</th>\n",
       "      <td>44.000000</td>\n",
       "      <td>127644.240000</td>\n",
       "    </tr>\n",
       "    <tr>\n",
       "      <th>max</th>\n",
       "      <td>92.000000</td>\n",
       "      <td>250898.090000</td>\n",
       "    </tr>\n",
       "  </tbody>\n",
       "</table>\n",
       "</div>"
      ],
      "text/plain": [
       "                Age        Balance\n",
       "count  10000.000000   10000.000000\n",
       "mean      38.921800   76485.889288\n",
       "std       10.487806   62397.405202\n",
       "min       18.000000       0.000000\n",
       "25%       32.000000       0.000000\n",
       "50%       37.000000   97198.540000\n",
       "75%       44.000000  127644.240000\n",
       "max       92.000000  250898.090000"
      ]
     },
     "execution_count": 32,
     "metadata": {},
     "output_type": "execute_result"
    }
   ],
   "source": [
    "# check what numeric variable to use --> I decided to use choose a outlier for Balance\n",
    "df[['Age','Balance']].describe()"
   ]
  },
  {
   "cell_type": "code",
   "execution_count": 33,
   "id": "28c89a82",
   "metadata": {},
   "outputs": [
    {
     "name": "stdout",
     "output_type": "stream",
     "text": [
      "   Age  Balance  Gender_Male  IsActiveMember_1\n",
      "0   16   400000            1                 1\n",
      "Customer will leave\n"
     ]
    }
   ],
   "source": [
    "# set Age to 95 and balance to 400,000 which is larger than the max.\n",
    "outlier = pd.DataFrame({\n",
    "    'Age': [16],\n",
    "    'Balance': [400000],\n",
    "    'Gender_Male': [1],\n",
    "    'IsActiveMember_1': [1]\n",
    "})\n",
    "\n",
    "print(outlier)\n",
    "\n",
    "prediction_outlier = logmodel.predict(outlier)\n",
    "if prediction_mycustomer == 0:\n",
    "    print(\"Customer will leave\")\n",
    "else:\n",
    "    print(\"Customer will exit\")"
   ]
  },
  {
   "cell_type": "markdown",
   "id": "4e6a0799",
   "metadata": {},
   "source": [
    "# Part II Random Foresr Model\n",
    "## S."
   ]
  },
  {
   "cell_type": "code",
   "execution_count": 34,
   "id": "3c5b4064",
   "metadata": {},
   "outputs": [],
   "source": [
    "numeric_variable = ['CreditScore', 'Age', 'Tenure', 'Balance', 'NumOfProducts', 'EstimatedSalary']\n",
    "categorical_variable = ['Geography', 'Gender', 'HasCrCard', 'IsActiveMember','Exited']\n",
    "output_var = ['Exited']\n",
    "all_variable = numeric_variable + categorical_variable\n",
    "df_rf = df[all_variable]"
   ]
  },
  {
   "cell_type": "markdown",
   "id": "1d32e0d0",
   "metadata": {},
   "source": [
    "## T."
   ]
  },
  {
   "cell_type": "code",
   "execution_count": 35,
   "id": "3a3350df",
   "metadata": {},
   "outputs": [
    {
     "data": {
      "text/html": [
       "<div>\n",
       "<style scoped>\n",
       "    .dataframe tbody tr th:only-of-type {\n",
       "        vertical-align: middle;\n",
       "    }\n",
       "\n",
       "    .dataframe tbody tr th {\n",
       "        vertical-align: top;\n",
       "    }\n",
       "\n",
       "    .dataframe thead th {\n",
       "        text-align: right;\n",
       "    }\n",
       "</style>\n",
       "<table border=\"1\" class=\"dataframe\">\n",
       "  <thead>\n",
       "    <tr style=\"text-align: right;\">\n",
       "      <th></th>\n",
       "      <th>CreditScore</th>\n",
       "      <th>Age</th>\n",
       "      <th>Tenure</th>\n",
       "      <th>Balance</th>\n",
       "      <th>NumOfProducts</th>\n",
       "      <th>EstimatedSalary</th>\n",
       "      <th>Exited</th>\n",
       "      <th>Geography_France</th>\n",
       "      <th>Geography_Germany</th>\n",
       "      <th>Geography_Spain</th>\n",
       "      <th>Gender_Female</th>\n",
       "      <th>Gender_Male</th>\n",
       "      <th>HasCrCard_0</th>\n",
       "      <th>HasCrCard_1</th>\n",
       "      <th>IsActiveMember_0</th>\n",
       "      <th>IsActiveMember_1</th>\n",
       "    </tr>\n",
       "  </thead>\n",
       "  <tbody>\n",
       "    <tr>\n",
       "      <th>0</th>\n",
       "      <td>619</td>\n",
       "      <td>42</td>\n",
       "      <td>2</td>\n",
       "      <td>0.00</td>\n",
       "      <td>1</td>\n",
       "      <td>101348.88</td>\n",
       "      <td>1</td>\n",
       "      <td>1</td>\n",
       "      <td>0</td>\n",
       "      <td>0</td>\n",
       "      <td>1</td>\n",
       "      <td>0</td>\n",
       "      <td>0</td>\n",
       "      <td>1</td>\n",
       "      <td>0</td>\n",
       "      <td>1</td>\n",
       "    </tr>\n",
       "    <tr>\n",
       "      <th>1</th>\n",
       "      <td>608</td>\n",
       "      <td>41</td>\n",
       "      <td>1</td>\n",
       "      <td>83807.86</td>\n",
       "      <td>1</td>\n",
       "      <td>112542.58</td>\n",
       "      <td>0</td>\n",
       "      <td>0</td>\n",
       "      <td>0</td>\n",
       "      <td>1</td>\n",
       "      <td>1</td>\n",
       "      <td>0</td>\n",
       "      <td>1</td>\n",
       "      <td>0</td>\n",
       "      <td>0</td>\n",
       "      <td>1</td>\n",
       "    </tr>\n",
       "    <tr>\n",
       "      <th>2</th>\n",
       "      <td>502</td>\n",
       "      <td>42</td>\n",
       "      <td>8</td>\n",
       "      <td>159660.80</td>\n",
       "      <td>3</td>\n",
       "      <td>113931.57</td>\n",
       "      <td>1</td>\n",
       "      <td>1</td>\n",
       "      <td>0</td>\n",
       "      <td>0</td>\n",
       "      <td>1</td>\n",
       "      <td>0</td>\n",
       "      <td>0</td>\n",
       "      <td>1</td>\n",
       "      <td>1</td>\n",
       "      <td>0</td>\n",
       "    </tr>\n",
       "    <tr>\n",
       "      <th>3</th>\n",
       "      <td>699</td>\n",
       "      <td>39</td>\n",
       "      <td>1</td>\n",
       "      <td>0.00</td>\n",
       "      <td>2</td>\n",
       "      <td>93826.63</td>\n",
       "      <td>0</td>\n",
       "      <td>1</td>\n",
       "      <td>0</td>\n",
       "      <td>0</td>\n",
       "      <td>1</td>\n",
       "      <td>0</td>\n",
       "      <td>1</td>\n",
       "      <td>0</td>\n",
       "      <td>1</td>\n",
       "      <td>0</td>\n",
       "    </tr>\n",
       "    <tr>\n",
       "      <th>4</th>\n",
       "      <td>850</td>\n",
       "      <td>43</td>\n",
       "      <td>2</td>\n",
       "      <td>125510.82</td>\n",
       "      <td>1</td>\n",
       "      <td>79084.10</td>\n",
       "      <td>0</td>\n",
       "      <td>0</td>\n",
       "      <td>0</td>\n",
       "      <td>1</td>\n",
       "      <td>1</td>\n",
       "      <td>0</td>\n",
       "      <td>0</td>\n",
       "      <td>1</td>\n",
       "      <td>0</td>\n",
       "      <td>1</td>\n",
       "    </tr>\n",
       "  </tbody>\n",
       "</table>\n",
       "</div>"
      ],
      "text/plain": [
       "   CreditScore  Age  Tenure    Balance  NumOfProducts  EstimatedSalary  \\\n",
       "0          619   42       2       0.00              1        101348.88   \n",
       "1          608   41       1   83807.86              1        112542.58   \n",
       "2          502   42       8  159660.80              3        113931.57   \n",
       "3          699   39       1       0.00              2         93826.63   \n",
       "4          850   43       2  125510.82              1         79084.10   \n",
       "\n",
       "   Exited  Geography_France  Geography_Germany  Geography_Spain  \\\n",
       "0       1                 1                  0                0   \n",
       "1       0                 0                  0                1   \n",
       "2       1                 1                  0                0   \n",
       "3       0                 1                  0                0   \n",
       "4       0                 0                  0                1   \n",
       "\n",
       "   Gender_Female  Gender_Male  HasCrCard_0  HasCrCard_1  IsActiveMember_0  \\\n",
       "0              1            0            0            1                 0   \n",
       "1              1            0            1            0                 0   \n",
       "2              1            0            0            1                 1   \n",
       "3              1            0            1            0                 1   \n",
       "4              1            0            0            1                 0   \n",
       "\n",
       "   IsActiveMember_1  \n",
       "0                 1  \n",
       "1                 1  \n",
       "2                 0  \n",
       "3                 0  \n",
       "4                 1  "
      ]
     },
     "execution_count": 35,
     "metadata": {},
     "output_type": "execute_result"
    }
   ],
   "source": [
    "dummy_variable = [i for i in categorical_variable if i != 'Exited']\n",
    "df_dummy_rf = pd.get_dummies(df_rf,drop_first = False,columns =dummy_variable )\n",
    "df_dummy_rf.head()"
   ]
  },
  {
   "cell_type": "markdown",
   "id": "21c0379d",
   "metadata": {},
   "source": [
    "## U."
   ]
  },
  {
   "cell_type": "code",
   "execution_count": 36,
   "id": "66163abd",
   "metadata": {},
   "outputs": [],
   "source": [
    "## Patition the data\n",
    "X_rf = df_dummy_rf.drop(output_var,axis = 1)\n",
    "y_rf = df_dummy_rf[output_var]\n",
    "\n",
    "Xrf_train, Xrf_test, yrf_train, yrf_test = tts(X_rf,y_rf, test_size=0.4,random_state = 18)"
   ]
  },
  {
   "cell_type": "markdown",
   "id": "d9d55672",
   "metadata": {},
   "source": [
    "## V."
   ]
  },
  {
   "cell_type": "code",
   "execution_count": 37,
   "id": "0bcf9f6d",
   "metadata": {},
   "outputs": [
    {
     "data": {
      "text/html": [
       "<style>#sk-container-id-2 {color: black;background-color: white;}#sk-container-id-2 pre{padding: 0;}#sk-container-id-2 div.sk-toggleable {background-color: white;}#sk-container-id-2 label.sk-toggleable__label {cursor: pointer;display: block;width: 100%;margin-bottom: 0;padding: 0.3em;box-sizing: border-box;text-align: center;}#sk-container-id-2 label.sk-toggleable__label-arrow:before {content: \"▸\";float: left;margin-right: 0.25em;color: #696969;}#sk-container-id-2 label.sk-toggleable__label-arrow:hover:before {color: black;}#sk-container-id-2 div.sk-estimator:hover label.sk-toggleable__label-arrow:before {color: black;}#sk-container-id-2 div.sk-toggleable__content {max-height: 0;max-width: 0;overflow: hidden;text-align: left;background-color: #f0f8ff;}#sk-container-id-2 div.sk-toggleable__content pre {margin: 0.2em;color: black;border-radius: 0.25em;background-color: #f0f8ff;}#sk-container-id-2 input.sk-toggleable__control:checked~div.sk-toggleable__content {max-height: 200px;max-width: 100%;overflow: auto;}#sk-container-id-2 input.sk-toggleable__control:checked~label.sk-toggleable__label-arrow:before {content: \"▾\";}#sk-container-id-2 div.sk-estimator input.sk-toggleable__control:checked~label.sk-toggleable__label {background-color: #d4ebff;}#sk-container-id-2 div.sk-label input.sk-toggleable__control:checked~label.sk-toggleable__label {background-color: #d4ebff;}#sk-container-id-2 input.sk-hidden--visually {border: 0;clip: rect(1px 1px 1px 1px);clip: rect(1px, 1px, 1px, 1px);height: 1px;margin: -1px;overflow: hidden;padding: 0;position: absolute;width: 1px;}#sk-container-id-2 div.sk-estimator {font-family: monospace;background-color: #f0f8ff;border: 1px dotted black;border-radius: 0.25em;box-sizing: border-box;margin-bottom: 0.5em;}#sk-container-id-2 div.sk-estimator:hover {background-color: #d4ebff;}#sk-container-id-2 div.sk-parallel-item::after {content: \"\";width: 100%;border-bottom: 1px solid gray;flex-grow: 1;}#sk-container-id-2 div.sk-label:hover label.sk-toggleable__label {background-color: #d4ebff;}#sk-container-id-2 div.sk-serial::before {content: \"\";position: absolute;border-left: 1px solid gray;box-sizing: border-box;top: 0;bottom: 0;left: 50%;z-index: 0;}#sk-container-id-2 div.sk-serial {display: flex;flex-direction: column;align-items: center;background-color: white;padding-right: 0.2em;padding-left: 0.2em;position: relative;}#sk-container-id-2 div.sk-item {position: relative;z-index: 1;}#sk-container-id-2 div.sk-parallel {display: flex;align-items: stretch;justify-content: center;background-color: white;position: relative;}#sk-container-id-2 div.sk-item::before, #sk-container-id-2 div.sk-parallel-item::before {content: \"\";position: absolute;border-left: 1px solid gray;box-sizing: border-box;top: 0;bottom: 0;left: 50%;z-index: -1;}#sk-container-id-2 div.sk-parallel-item {display: flex;flex-direction: column;z-index: 1;position: relative;background-color: white;}#sk-container-id-2 div.sk-parallel-item:first-child::after {align-self: flex-end;width: 50%;}#sk-container-id-2 div.sk-parallel-item:last-child::after {align-self: flex-start;width: 50%;}#sk-container-id-2 div.sk-parallel-item:only-child::after {width: 0;}#sk-container-id-2 div.sk-dashed-wrapped {border: 1px dashed gray;margin: 0 0.4em 0.5em 0.4em;box-sizing: border-box;padding-bottom: 0.4em;background-color: white;}#sk-container-id-2 div.sk-label label {font-family: monospace;font-weight: bold;display: inline-block;line-height: 1.2em;}#sk-container-id-2 div.sk-label-container {text-align: center;}#sk-container-id-2 div.sk-container {/* jupyter's `normalize.less` sets `[hidden] { display: none; }` but bootstrap.min.css set `[hidden] { display: none !important; }` so we also need the `!important` here to be able to override the default hidden behavior on the sphinx rendered scikit-learn.org. See: https://github.com/scikit-learn/scikit-learn/issues/21755 */display: inline-block !important;position: relative;}#sk-container-id-2 div.sk-text-repr-fallback {display: none;}</style><div id=\"sk-container-id-2\" class=\"sk-top-container\"><div class=\"sk-text-repr-fallback\"><pre>RandomForestClassifier()</pre><b>In a Jupyter environment, please rerun this cell to show the HTML representation or trust the notebook. <br />On GitHub, the HTML representation is unable to render, please try loading this page with nbviewer.org.</b></div><div class=\"sk-container\" hidden><div class=\"sk-item\"><div class=\"sk-estimator sk-toggleable\"><input class=\"sk-toggleable__control sk-hidden--visually\" id=\"sk-estimator-id-2\" type=\"checkbox\" checked><label for=\"sk-estimator-id-2\" class=\"sk-toggleable__label sk-toggleable__label-arrow\">RandomForestClassifier</label><div class=\"sk-toggleable__content\"><pre>RandomForestClassifier()</pre></div></div></div></div></div>"
      ],
      "text/plain": [
       "RandomForestClassifier()"
      ]
     },
     "execution_count": 37,
     "metadata": {},
     "output_type": "execute_result"
    }
   ],
   "source": [
    "# Random Forest model\n",
    "from sklearn.ensemble import RandomForestClassifier\n",
    "clf=RandomForestClassifier()\n",
    "clf.fit(Xrf_train,yrf_train.values.ravel())"
   ]
  },
  {
   "cell_type": "code",
   "execution_count": 38,
   "id": "021c4ecc",
   "metadata": {},
   "outputs": [
    {
     "name": "stdout",
     "output_type": "stream",
     "text": [
      "{'max_depth': 8, 'max_features': 12, 'min_samples_leaf': 6, 'n_estimators': 50}\n"
     ]
    }
   ],
   "source": [
    "## GridSearchCV\n",
    "param_grid = {\n",
    "    'n_estimators': [50, 100, 150],\n",
    "    'max_depth': [4, 8, 10, 12],\n",
    "    'max_features': [12, 16, 20],\n",
    "    'min_samples_leaf': [6, 10, 14],\n",
    "}\n",
    "\n",
    "from sklearn.model_selection import GridSearchCV\n",
    "\n",
    "CV_rfc = GridSearchCV(estimator=clf, param_grid=param_grid, cv= 5)\n",
    "CV_rfc.fit(Xrf_train, yrf_train.values.ravel())\n",
    "print(CV_rfc.best_params_)"
   ]
  },
  {
   "cell_type": "code",
   "execution_count": 39,
   "id": "640e0952",
   "metadata": {},
   "outputs": [
    {
     "data": {
      "text/html": [
       "<style>#sk-container-id-3 {color: black;background-color: white;}#sk-container-id-3 pre{padding: 0;}#sk-container-id-3 div.sk-toggleable {background-color: white;}#sk-container-id-3 label.sk-toggleable__label {cursor: pointer;display: block;width: 100%;margin-bottom: 0;padding: 0.3em;box-sizing: border-box;text-align: center;}#sk-container-id-3 label.sk-toggleable__label-arrow:before {content: \"▸\";float: left;margin-right: 0.25em;color: #696969;}#sk-container-id-3 label.sk-toggleable__label-arrow:hover:before {color: black;}#sk-container-id-3 div.sk-estimator:hover label.sk-toggleable__label-arrow:before {color: black;}#sk-container-id-3 div.sk-toggleable__content {max-height: 0;max-width: 0;overflow: hidden;text-align: left;background-color: #f0f8ff;}#sk-container-id-3 div.sk-toggleable__content pre {margin: 0.2em;color: black;border-radius: 0.25em;background-color: #f0f8ff;}#sk-container-id-3 input.sk-toggleable__control:checked~div.sk-toggleable__content {max-height: 200px;max-width: 100%;overflow: auto;}#sk-container-id-3 input.sk-toggleable__control:checked~label.sk-toggleable__label-arrow:before {content: \"▾\";}#sk-container-id-3 div.sk-estimator input.sk-toggleable__control:checked~label.sk-toggleable__label {background-color: #d4ebff;}#sk-container-id-3 div.sk-label input.sk-toggleable__control:checked~label.sk-toggleable__label {background-color: #d4ebff;}#sk-container-id-3 input.sk-hidden--visually {border: 0;clip: rect(1px 1px 1px 1px);clip: rect(1px, 1px, 1px, 1px);height: 1px;margin: -1px;overflow: hidden;padding: 0;position: absolute;width: 1px;}#sk-container-id-3 div.sk-estimator {font-family: monospace;background-color: #f0f8ff;border: 1px dotted black;border-radius: 0.25em;box-sizing: border-box;margin-bottom: 0.5em;}#sk-container-id-3 div.sk-estimator:hover {background-color: #d4ebff;}#sk-container-id-3 div.sk-parallel-item::after {content: \"\";width: 100%;border-bottom: 1px solid gray;flex-grow: 1;}#sk-container-id-3 div.sk-label:hover label.sk-toggleable__label {background-color: #d4ebff;}#sk-container-id-3 div.sk-serial::before {content: \"\";position: absolute;border-left: 1px solid gray;box-sizing: border-box;top: 0;bottom: 0;left: 50%;z-index: 0;}#sk-container-id-3 div.sk-serial {display: flex;flex-direction: column;align-items: center;background-color: white;padding-right: 0.2em;padding-left: 0.2em;position: relative;}#sk-container-id-3 div.sk-item {position: relative;z-index: 1;}#sk-container-id-3 div.sk-parallel {display: flex;align-items: stretch;justify-content: center;background-color: white;position: relative;}#sk-container-id-3 div.sk-item::before, #sk-container-id-3 div.sk-parallel-item::before {content: \"\";position: absolute;border-left: 1px solid gray;box-sizing: border-box;top: 0;bottom: 0;left: 50%;z-index: -1;}#sk-container-id-3 div.sk-parallel-item {display: flex;flex-direction: column;z-index: 1;position: relative;background-color: white;}#sk-container-id-3 div.sk-parallel-item:first-child::after {align-self: flex-end;width: 50%;}#sk-container-id-3 div.sk-parallel-item:last-child::after {align-self: flex-start;width: 50%;}#sk-container-id-3 div.sk-parallel-item:only-child::after {width: 0;}#sk-container-id-3 div.sk-dashed-wrapped {border: 1px dashed gray;margin: 0 0.4em 0.5em 0.4em;box-sizing: border-box;padding-bottom: 0.4em;background-color: white;}#sk-container-id-3 div.sk-label label {font-family: monospace;font-weight: bold;display: inline-block;line-height: 1.2em;}#sk-container-id-3 div.sk-label-container {text-align: center;}#sk-container-id-3 div.sk-container {/* jupyter's `normalize.less` sets `[hidden] { display: none; }` but bootstrap.min.css set `[hidden] { display: none !important; }` so we also need the `!important` here to be able to override the default hidden behavior on the sphinx rendered scikit-learn.org. See: https://github.com/scikit-learn/scikit-learn/issues/21755 */display: inline-block !important;position: relative;}#sk-container-id-3 div.sk-text-repr-fallback {display: none;}</style><div id=\"sk-container-id-3\" class=\"sk-top-container\"><div class=\"sk-text-repr-fallback\"><pre>RandomForestClassifier(max_depth=10, max_features=12, min_samples_leaf=14,\n",
       "                       n_estimators=150, random_state=18)</pre><b>In a Jupyter environment, please rerun this cell to show the HTML representation or trust the notebook. <br />On GitHub, the HTML representation is unable to render, please try loading this page with nbviewer.org.</b></div><div class=\"sk-container\" hidden><div class=\"sk-item\"><div class=\"sk-estimator sk-toggleable\"><input class=\"sk-toggleable__control sk-hidden--visually\" id=\"sk-estimator-id-3\" type=\"checkbox\" checked><label for=\"sk-estimator-id-3\" class=\"sk-toggleable__label sk-toggleable__label-arrow\">RandomForestClassifier</label><div class=\"sk-toggleable__content\"><pre>RandomForestClassifier(max_depth=10, max_features=12, min_samples_leaf=14,\n",
       "                       n_estimators=150, random_state=18)</pre></div></div></div></div></div>"
      ],
      "text/plain": [
       "RandomForestClassifier(max_depth=10, max_features=12, min_samples_leaf=14,\n",
       "                       n_estimators=150, random_state=18)"
      ]
     },
     "execution_count": 39,
     "metadata": {},
     "output_type": "execute_result"
    }
   ],
   "source": [
    "## using hyperparameter settings for model\n",
    "clf=RandomForestClassifier(n_estimators=150, max_depth=10, max_features=12, min_samples_leaf=14, random_state=18)\n",
    "clf.fit(Xrf_train,yrf_train.values.ravel())"
   ]
  },
  {
   "cell_type": "markdown",
   "id": "9ef8e344",
   "metadata": {},
   "source": [
    "## W. Variable ranking from random forest model\n",
    "\n",
    "The result of the importance of variables is showned in below table, with \"Age\" as the 1st while \"HasCrCard_1\" as the last.\n",
    "\n",
    "The higher the ranking, the more effective it is to seperate the data into distinct groups."
   ]
  },
  {
   "cell_type": "code",
   "execution_count": 40,
   "id": "4dd4782b",
   "metadata": {},
   "outputs": [
    {
     "data": {
      "text/html": [
       "<div>\n",
       "<style scoped>\n",
       "    .dataframe tbody tr th:only-of-type {\n",
       "        vertical-align: middle;\n",
       "    }\n",
       "\n",
       "    .dataframe tbody tr th {\n",
       "        vertical-align: top;\n",
       "    }\n",
       "\n",
       "    .dataframe thead th {\n",
       "        text-align: right;\n",
       "    }\n",
       "</style>\n",
       "<table border=\"1\" class=\"dataframe\">\n",
       "  <thead>\n",
       "    <tr style=\"text-align: right;\">\n",
       "      <th></th>\n",
       "      <th>feature importance</th>\n",
       "      <th>feature</th>\n",
       "    </tr>\n",
       "  </thead>\n",
       "  <tbody>\n",
       "    <tr>\n",
       "      <th>1</th>\n",
       "      <td>0.350187</td>\n",
       "      <td>Age</td>\n",
       "    </tr>\n",
       "    <tr>\n",
       "      <th>4</th>\n",
       "      <td>0.239715</td>\n",
       "      <td>NumOfProducts</td>\n",
       "    </tr>\n",
       "    <tr>\n",
       "      <th>3</th>\n",
       "      <td>0.106956</td>\n",
       "      <td>Balance</td>\n",
       "    </tr>\n",
       "    <tr>\n",
       "      <th>13</th>\n",
       "      <td>0.056835</td>\n",
       "      <td>IsActiveMember_0</td>\n",
       "    </tr>\n",
       "    <tr>\n",
       "      <th>14</th>\n",
       "      <td>0.050306</td>\n",
       "      <td>IsActiveMember_1</td>\n",
       "    </tr>\n",
       "    <tr>\n",
       "      <th>0</th>\n",
       "      <td>0.048015</td>\n",
       "      <td>CreditScore</td>\n",
       "    </tr>\n",
       "    <tr>\n",
       "      <th>5</th>\n",
       "      <td>0.046660</td>\n",
       "      <td>EstimatedSalary</td>\n",
       "    </tr>\n",
       "    <tr>\n",
       "      <th>7</th>\n",
       "      <td>0.046190</td>\n",
       "      <td>Geography_Germany</td>\n",
       "    </tr>\n",
       "    <tr>\n",
       "      <th>2</th>\n",
       "      <td>0.027788</td>\n",
       "      <td>Tenure</td>\n",
       "    </tr>\n",
       "    <tr>\n",
       "      <th>10</th>\n",
       "      <td>0.007757</td>\n",
       "      <td>Gender_Male</td>\n",
       "    </tr>\n",
       "    <tr>\n",
       "      <th>9</th>\n",
       "      <td>0.007086</td>\n",
       "      <td>Gender_Female</td>\n",
       "    </tr>\n",
       "    <tr>\n",
       "      <th>6</th>\n",
       "      <td>0.004313</td>\n",
       "      <td>Geography_France</td>\n",
       "    </tr>\n",
       "    <tr>\n",
       "      <th>8</th>\n",
       "      <td>0.003035</td>\n",
       "      <td>Geography_Spain</td>\n",
       "    </tr>\n",
       "    <tr>\n",
       "      <th>11</th>\n",
       "      <td>0.002611</td>\n",
       "      <td>HasCrCard_0</td>\n",
       "    </tr>\n",
       "    <tr>\n",
       "      <th>12</th>\n",
       "      <td>0.002546</td>\n",
       "      <td>HasCrCard_1</td>\n",
       "    </tr>\n",
       "  </tbody>\n",
       "</table>\n",
       "</div>"
      ],
      "text/plain": [
       "    feature importance            feature\n",
       "1             0.350187                Age\n",
       "4             0.239715      NumOfProducts\n",
       "3             0.106956            Balance\n",
       "13            0.056835   IsActiveMember_0\n",
       "14            0.050306   IsActiveMember_1\n",
       "0             0.048015        CreditScore\n",
       "5             0.046660    EstimatedSalary\n",
       "7             0.046190  Geography_Germany\n",
       "2             0.027788             Tenure\n",
       "10            0.007757        Gender_Male\n",
       "9             0.007086      Gender_Female\n",
       "6             0.004313   Geography_France\n",
       "8             0.003035    Geography_Spain\n",
       "11            0.002611        HasCrCard_0\n",
       "12            0.002546        HasCrCard_1"
      ]
     },
     "execution_count": 40,
     "metadata": {},
     "output_type": "execute_result"
    }
   ],
   "source": [
    "feature_imp_df = pd.DataFrame(list(zip(clf.feature_importances_, Xrf_train)))\n",
    "feature_imp_df.columns = ['feature importance', 'feature']\n",
    "feature_imp_df = feature_imp_df.sort_values(by='feature importance', ascending=False)\n",
    "feature_imp_df"
   ]
  },
  {
   "cell_type": "markdown",
   "id": "c8d13938",
   "metadata": {},
   "source": [
    "## X. Performance of random forest model\n",
    "\n",
    "### a. accuracy rate: 0.86\n",
    "\n",
    "### b. sensitivity rate: 0.49\n",
    "\n",
    "### c. specificity rate: 0.96\n",
    "\n",
    "### d. precision: 0.76\n",
    "\n",
    "### e. balanced accuracy: 0.72"
   ]
  },
  {
   "cell_type": "code",
   "execution_count": 41,
   "id": "bb565bf3",
   "metadata": {},
   "outputs": [
    {
     "name": "stdout",
     "output_type": "stream",
     "text": [
      "Confusion Matrix:  \n",
      " [[3058  125]\n",
      " [ 420  397]]\n",
      "Accuracy: 0.86\n",
      "Sensitivity (Recall): 0.49\n",
      "Specificity: 0.96\n",
      "Precision: 0.76\n",
      "Balanced Accuracy: 0.72\n"
     ]
    }
   ],
   "source": [
    "predictions_rf_test = clf.predict(Xrf_test)\n",
    "\n",
    "# Calculate the confusion matrix\n",
    "confusion_rf = confusion_matrix(yrf_test, predictions_rf_test)\n",
    "\n",
    "# Calculate accuracy\n",
    "accuracy_rf = accuracy_score(yrf_test, predictions_rf_test)\n",
    "\n",
    "# Calculate sensitivity (recall)\n",
    "sensitivity_rf = recall_score(yrf_test, predictions_rf_test)\n",
    "\n",
    "# Calculate specificity\n",
    "specificity_rf = confusion_rf[0, 0] / (confusion_rf[0, 0] + confusion_rf[0, 1])\n",
    "\n",
    "# Calculate precision\n",
    "precision_rf = precision_score(yrf_test, predictions_rf_test)\n",
    "\n",
    "# Calculate balanced accuracy\n",
    "balanced_accuracy_rf = balanced_accuracy_score(yrf_test, predictions_rf_test)\n",
    "\n",
    "# Print the results\n",
    "print('Confusion Matrix: ','\\n',confusion_rf,)\n",
    "print(f\"Accuracy: {accuracy_rf:.2f}\")\n",
    "print(f\"Sensitivity (Recall): {sensitivity_rf:.2f}\")\n",
    "print(f\"Specificity: {specificity_rf:.2f}\")\n",
    "print(f\"Precision: {precision_rf:.2f}\")\n",
    "print(f\"Balanced Accuracy: {balanced_accuracy_rf:.2f}\")\n"
   ]
  },
  {
   "cell_type": "markdown",
   "id": "73452165",
   "metadata": {},
   "source": [
    "## Y. Comparing accuracy of RF model on training set and testing set\n",
    "\n",
    "The accuracy of training set is 0.88, and that of testing set is 0.86. Two accuracies are pretty close, so I think my random forest model is not overfit."
   ]
  },
  {
   "cell_type": "code",
   "execution_count": 42,
   "id": "fd445419",
   "metadata": {},
   "outputs": [
    {
     "name": "stdout",
     "output_type": "stream",
     "text": [
      "Training set is: 0.88 \n",
      "Testing set is: 0.86\n"
     ]
    }
   ],
   "source": [
    "predictions_rf_train = clf.predict(Xrf_train)\n",
    "predictions_rf_test = clf.predict(Xrf_test)\n",
    "print('Training set is:',accuracy_score(yrf_train, predictions_rf_train).round(2),'\\nTesting set is:',accuracy_score(yrf_test, predictions_rf_test).round(2))"
   ]
  },
  {
   "cell_type": "markdown",
   "id": "f729c31f",
   "metadata": {},
   "source": [
    "## Z. Predict my new customer will leave or not based on RF model\n",
    "\n",
    "After using random forest model to predict my new customer, the model predict it will leave."
   ]
  },
  {
   "cell_type": "code",
   "execution_count": 43,
   "id": "f6f8a172",
   "metadata": {},
   "outputs": [
    {
     "data": {
      "text/html": [
       "<div>\n",
       "<style scoped>\n",
       "    .dataframe tbody tr th:only-of-type {\n",
       "        vertical-align: middle;\n",
       "    }\n",
       "\n",
       "    .dataframe tbody tr th {\n",
       "        vertical-align: top;\n",
       "    }\n",
       "\n",
       "    .dataframe thead th {\n",
       "        text-align: right;\n",
       "    }\n",
       "</style>\n",
       "<table border=\"1\" class=\"dataframe\">\n",
       "  <thead>\n",
       "    <tr style=\"text-align: right;\">\n",
       "      <th></th>\n",
       "      <th>RowNumber</th>\n",
       "      <th>CustomerId</th>\n",
       "      <th>Surname</th>\n",
       "      <th>CreditScore</th>\n",
       "      <th>Age</th>\n",
       "      <th>Tenure</th>\n",
       "      <th>Balance</th>\n",
       "      <th>NumOfProducts</th>\n",
       "      <th>EstimatedSalary</th>\n",
       "      <th>Geography_France</th>\n",
       "      <th>Geography_Germany</th>\n",
       "      <th>Geography_Spain</th>\n",
       "      <th>Gender_Female</th>\n",
       "      <th>Gender_Male</th>\n",
       "      <th>HasCrCard_0</th>\n",
       "      <th>HasCrCard_1</th>\n",
       "      <th>IsActiveMember_0</th>\n",
       "      <th>IsActiveMember_1</th>\n",
       "    </tr>\n",
       "  </thead>\n",
       "  <tbody>\n",
       "    <tr>\n",
       "      <th>10000</th>\n",
       "      <td>10001</td>\n",
       "      <td>555</td>\n",
       "      <td>Leon</td>\n",
       "      <td>730</td>\n",
       "      <td>35</td>\n",
       "      <td>3</td>\n",
       "      <td>66666.0</td>\n",
       "      <td>3.0</td>\n",
       "      <td>90000.0</td>\n",
       "      <td>0</td>\n",
       "      <td>0</td>\n",
       "      <td>1</td>\n",
       "      <td>0</td>\n",
       "      <td>1</td>\n",
       "      <td>0</td>\n",
       "      <td>1</td>\n",
       "      <td>0</td>\n",
       "      <td>1</td>\n",
       "    </tr>\n",
       "  </tbody>\n",
       "</table>\n",
       "</div>"
      ],
      "text/plain": [
       "       RowNumber  CustomerId Surname  CreditScore  Age  Tenure  Balance  \\\n",
       "10000      10001         555    Leon          730   35       3  66666.0   \n",
       "\n",
       "       NumOfProducts  EstimatedSalary  Geography_France  Geography_Germany  \\\n",
       "10000            3.0          90000.0                 0                  0   \n",
       "\n",
       "       Geography_Spain  Gender_Female  Gender_Male  HasCrCard_0  HasCrCard_1  \\\n",
       "10000                1              0            1            0            1   \n",
       "\n",
       "       IsActiveMember_0  IsActiveMember_1  \n",
       "10000                 0                 1  "
      ]
     },
     "execution_count": 43,
     "metadata": {},
     "output_type": "execute_result"
    }
   ],
   "source": [
    "mycustomer_dummy_rf = pd.get_dummies(df_train,drop_first = False, columns = dummy_variable).iloc[10000:10001,:]\n",
    "mycustomer_dummy_rf"
   ]
  },
  {
   "cell_type": "code",
   "execution_count": 44,
   "id": "f1c97a8a",
   "metadata": {},
   "outputs": [
    {
     "name": "stdout",
     "output_type": "stream",
     "text": [
      "Customer will exit\n"
     ]
    }
   ],
   "source": [
    "prediction_mycustomer_rf = clf.predict(mycustomer_dummy_rf.drop(columns=['RowNumber','CustomerId','Surname']))\n",
    "\n",
    "if prediction_mycustomer_rf == 0:\n",
    "    print(\"Customer will leave\")\n",
    "else:\n",
    "    print(\"Customer will exit\")"
   ]
  },
  {
   "cell_type": "markdown",
   "id": "88134792",
   "metadata": {},
   "source": [
    "## AAA. How a bank could use my Logistic Regression Model and Random Forest Model\n",
    "\n",
    "The bank could use the logistic regression model, which take less variables into consideration so could do a daily analysis due to consuming less computational burden, and probably found customers under 35, with low account balances, and no membership were most likely to leave. Then, this allows bank for targeting retention campaigns to young customers without paid memberships, or even identify this the same time when this young customers are making transaction at the same time. \n",
    "\n",
    "Since Random Forest model covers more detail with more computation, the bank could perform monthly analysis and probably found high-income customers with multiple products were less likely to leave even if other demographics predicted attrition. This shows the value of cross-selling additional products and services. "
   ]
  },
  {
   "cell_type": "markdown",
   "id": "f24d2161",
   "metadata": {},
   "source": [
    "# Part III Restaurant Customer Review Wordcloud"
   ]
  },
  {
   "cell_type": "markdown",
   "id": "0773d17a",
   "metadata": {},
   "source": [
    "In Yelp, I found the reviews of one of the restaurant I went to before in Evanston, IL. The restaurant is called \"NAKORN\", then I choose 20 reviews to generate a workcloude (https://monkeylearn.com/word-cloud/).\n",
    "\n",
    "From the workcloud I realize it highlight \"service\", meaning customers usually think service is an important thing, and the restaurant seems doing quite well since I did not see any bad review due to worst service. Also we can see \"Chicken\", probably indicating it is favored by most of the customers. Also, lots of people mention \"good food\", \"flavor\".\n",
    "\n",
    "I think NAKORN can encourage its employees to maintain good service and stable quality of food. Maybe they could promote \"chicken\" series menus to boost customer satisfaction."
   ]
  },
  {
   "attachments": {
    "wordcloud.png": {
     "image/png": "[encoded data removed]"
    }
   },
   "cell_type": "markdown",
   "id": "a498c0c4",
   "metadata": {},
   "source": [
    "![wordcloud.png](attachment:wordcloud.png)"
   ]
  }
 ],
 "metadata": {
  "kernelspec": {
   "display_name": "Python 3 (ipykernel)",
   "language": "python",
   "name": "python3"
  },
  "language_info": {
   "codemirror_mode": {
    "name": "ipython",
    "version": 3
   },
   "file_extension": ".py",
   "mimetype": "text/x-python",
   "name": "python",
   "nbconvert_exporter": "python",
   "pygments_lexer": "ipython3",
   "version": "3.10.9"
  }
 },
 "nbformat": 4,
 "nbformat_minor": 5
}
