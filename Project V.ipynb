{
 "cells": [
  {
   "cell_type": "code",
   "execution_count": 1,
   "id": "76120b7a",
   "metadata": {},
   "outputs": [],
   "source": [
    "import numpy as np\n",
    "import pandas as pd\n",
    "import seaborn as sns\n",
    "import matplotlib.pyplot as plt\n",
    "import statsmodels.api as sm\n",
    "import statsmodels.formula.api as smf"
   ]
  },
  {
   "cell_type": "code",
   "execution_count": 2,
   "id": "78f9fb56",
   "metadata": {},
   "outputs": [
    {
     "name": "stdout",
     "output_type": "stream",
     "text": [
      "<class 'pandas.core.frame.DataFrame'>\n",
      "RangeIndex: 200 entries, 0 to 199\n",
      "Data columns (total 4 columns):\n",
      " #   Column   Non-Null Count  Dtype  \n",
      "---  ------   --------------  -----  \n",
      " 0   YouTube  200 non-null    float64\n",
      " 1   Spotify  200 non-null    float64\n",
      " 2   Banners  200 non-null    float64\n",
      " 3   Sales    200 non-null    float64\n",
      "dtypes: float64(4)\n",
      "memory usage: 6.4 KB\n"
     ]
    }
   ],
   "source": [
    "ad = pd.read_csv('/Users/leon/My Drive/BU ABA/AD654/Assignment 5/ad_data.csv')\n",
    "ad.info()"
   ]
  },
  {
   "cell_type": "markdown",
   "id": "c0e285a9",
   "metadata": {},
   "source": [
    "## a."
   ]
  },
  {
   "cell_type": "code",
   "execution_count": 3,
   "id": "2079aa08",
   "metadata": {},
   "outputs": [],
   "source": [
    "ad2 = ad.loc[:]\n",
    "ad2['Total_Spending'] = ad2['YouTube'] + ad2['Spotify'] + ad2['Banners']"
   ]
  },
  {
   "cell_type": "markdown",
   "id": "56e6ab79",
   "metadata": {},
   "source": [
    "## b.\n",
    "\n",
    "The correlation between total spending and sales is 0.87. Although it means these two variables are highly related, we cannot conclude we could have more sales with more spending because the total sales consisted of three sources: Youtube, Spotify and Banners. Each three factors might have different correlation with the sales, so it's better to seperate to three parts to realize the correlation of sales with three different channels."
   ]
  },
  {
   "cell_type": "code",
   "execution_count": 4,
   "id": "cef95489",
   "metadata": {},
   "outputs": [
    {
     "name": "stdout",
     "output_type": "stream",
     "text": [
      "The correlation between total spending and sales is: 0.87\n"
     ]
    },
    {
     "data": {
      "image/png": "[encoded data removed]",
      "text/plain": [
       "<Figure size 640x480 with 1 Axes>"
      ]
     },
     "metadata": {},
     "output_type": "display_data"
    }
   ],
   "source": [
    "correlation = ad2['Total_Spending'].corr(ad2['Sales'])\n",
    "plt.scatter(ad2['Total_Spending'],ad2['Sales'])\n",
    "plt.title('Scatterplot of total spending and sales')\n",
    "print('The correlation between total spending and sales is:', round(correlation,2))"
   ]
  },
  {
   "cell_type": "markdown",
   "id": "8ea54b37",
   "metadata": {},
   "source": [
    "## c.\n",
    "\n",
    "Before using the spending in three channels to predict sales, firstly I check if three are strong correlation among three channels -- the result shows three channels are not strongly affecting each other."
   ]
  },
  {
   "cell_type": "code",
   "execution_count": 5,
   "id": "9a41deed",
   "metadata": {},
   "outputs": [
    {
     "data": {
      "text/html": [
       "<div>\n",
       "<style scoped>\n",
       "    .dataframe tbody tr th:only-of-type {\n",
       "        vertical-align: middle;\n",
       "    }\n",
       "\n",
       "    .dataframe tbody tr th {\n",
       "        vertical-align: top;\n",
       "    }\n",
       "\n",
       "    .dataframe thead th {\n",
       "        text-align: right;\n",
       "    }\n",
       "</style>\n",
       "<table border=\"1\" class=\"dataframe\">\n",
       "  <thead>\n",
       "    <tr style=\"text-align: right;\">\n",
       "      <th></th>\n",
       "      <th>YouTube</th>\n",
       "      <th>Spotify</th>\n",
       "      <th>Banners</th>\n",
       "    </tr>\n",
       "  </thead>\n",
       "  <tbody>\n",
       "    <tr>\n",
       "      <th>YouTube</th>\n",
       "      <td>1.000000</td>\n",
       "      <td>0.054809</td>\n",
       "      <td>0.056648</td>\n",
       "    </tr>\n",
       "    <tr>\n",
       "      <th>Spotify</th>\n",
       "      <td>0.054809</td>\n",
       "      <td>1.000000</td>\n",
       "      <td>0.354104</td>\n",
       "    </tr>\n",
       "    <tr>\n",
       "      <th>Banners</th>\n",
       "      <td>0.056648</td>\n",
       "      <td>0.354104</td>\n",
       "      <td>1.000000</td>\n",
       "    </tr>\n",
       "  </tbody>\n",
       "</table>\n",
       "</div>"
      ],
      "text/plain": [
       "          YouTube   Spotify   Banners\n",
       "YouTube  1.000000  0.054809  0.056648\n",
       "Spotify  0.054809  1.000000  0.354104\n",
       "Banners  0.056648  0.354104  1.000000"
      ]
     },
     "execution_count": 5,
     "metadata": {},
     "output_type": "execute_result"
    }
   ],
   "source": [
    "ad2[['YouTube','Spotify','Banners']].corr()"
   ]
  },
  {
   "cell_type": "markdown",
   "id": "b0d2bfec",
   "metadata": {},
   "source": [
    "## d.\n",
    "\n",
    "The p-value of the F-statistic is 1.58e-96, which is really low, indicating that there is strong evidence that at least one of the independent variables (YouTube ad spending, Spotify ad spending, or banner ad spending) has a statistically significant impact on the dependent variable (Sales). Besides, the overall regression model is likely a good fit for the data because it explains a significant amount of the variation in the dependent variable.\n",
    "\n",
    "After looking deeper in this model, the p-value of YouTube and Spotify is 0 -- meaning they have significant impact on Sales. However, Banners get a p-value of 0.86 -- meaning Banners does not have strong impact toward Sales.\n",
    "\n",
    "\n"
   ]
  },
  {
   "cell_type": "code",
   "execution_count": 6,
   "id": "296451a7",
   "metadata": {},
   "outputs": [
    {
     "name": "stdout",
     "output_type": "stream",
     "text": [
      "                            OLS Regression Results                            \n",
      "==============================================================================\n",
      "Dep. Variable:                  Sales   R-squared:                       0.897\n",
      "Model:                            OLS   Adj. R-squared:                  0.896\n",
      "Method:                 Least Squares   F-statistic:                     570.3\n",
      "Date:                Sat, 27 Jan 2024   Prob (F-statistic):           1.58e-96\n",
      "Time:                        20:59:14   Log-Likelihood:                -386.18\n",
      "No. Observations:                 200   AIC:                             780.4\n",
      "Df Residuals:                     196   BIC:                             793.6\n",
      "Df Model:                           3                                         \n",
      "Covariance Type:            nonrobust                                         \n",
      "==============================================================================\n",
      "                 coef    std err          t      P>|t|      [0.025      0.975]\n",
      "------------------------------------------------------------------------------\n",
      "const          2.9389      0.312      9.422      0.000       2.324       3.554\n",
      "YouTube        0.0458      0.001     32.809      0.000       0.043       0.049\n",
      "Spotify        0.1885      0.009     21.893      0.000       0.172       0.206\n",
      "Banners       -0.0010      0.006     -0.177      0.860      -0.013       0.011\n",
      "==============================================================================\n",
      "Omnibus:                       60.414   Durbin-Watson:                   2.084\n",
      "Prob(Omnibus):                  0.000   Jarque-Bera (JB):              151.241\n",
      "Skew:                          -1.327   Prob(JB):                     1.44e-33\n",
      "Kurtosis:                       6.332   Cond. No.                         454.\n",
      "==============================================================================\n",
      "\n",
      "Notes:\n",
      "[1] Standard Errors assume that the covariance matrix of the errors is correctly specified.\n"
     ]
    }
   ],
   "source": [
    "X = ad2[['YouTube','Spotify','Banners']]\n",
    "y = ad2['Sales']\n",
    "X = sm.add_constant(X)\n",
    "model = sm.OLS(y, X).fit()\n",
    "print(model.summary())"
   ]
  },
  {
   "cell_type": "markdown",
   "id": "4374c455",
   "metadata": {},
   "source": [
    "## e.\n",
    "### i.\n",
    "\n",
    "The p-value of all variables are 0, meaning YouTube ad spending and Spotify ad spending both have significant and independent effects on Sales. Also, the interaction between YouTube and Spotify ad spending is also highly significant and represents a combined effect beyond their individual contributions.\n",
    "\n"
   ]
  },
  {
   "cell_type": "code",
   "execution_count": 7,
   "id": "7dec2c5c",
   "metadata": {},
   "outputs": [
    {
     "name": "stdout",
     "output_type": "stream",
     "text": [
      "                            OLS Regression Results                            \n",
      "==============================================================================\n",
      "Dep. Variable:                  Sales   R-squared:                       0.968\n",
      "Model:                            OLS   Adj. R-squared:                  0.967\n",
      "Method:                 Least Squares   F-statistic:                     1963.\n",
      "Date:                Sat, 27 Jan 2024   Prob (F-statistic):          6.68e-146\n",
      "Time:                        20:59:14   Log-Likelihood:                -270.14\n",
      "No. Observations:                 200   AIC:                             548.3\n",
      "Df Residuals:                     196   BIC:                             561.5\n",
      "Df Model:                           3                                         \n",
      "Covariance Type:            nonrobust                                         \n",
      "===============================================================================\n",
      "                  coef    std err          t      P>|t|      [0.025      0.975]\n",
      "-------------------------------------------------------------------------------\n",
      "const           6.7502      0.248     27.233      0.000       6.261       7.239\n",
      "YouTube         0.0191      0.002     12.699      0.000       0.016       0.022\n",
      "Spotify         0.0289      0.009      3.241      0.001       0.011       0.046\n",
      "Interaction     0.0011   5.24e-05     20.727      0.000       0.001       0.001\n",
      "==============================================================================\n",
      "Omnibus:                      128.132   Durbin-Watson:                   2.224\n",
      "Prob(Omnibus):                  0.000   Jarque-Bera (JB):             1183.719\n",
      "Skew:                          -2.323   Prob(JB):                    9.09e-258\n",
      "Kurtosis:                      13.975   Cond. No.                     1.80e+04\n",
      "==============================================================================\n",
      "\n",
      "Notes:\n",
      "[1] Standard Errors assume that the covariance matrix of the errors is correctly specified.\n",
      "[2] The condition number is large, 1.8e+04. This might indicate that there are\n",
      "strong multicollinearity or other numerical problems.\n"
     ]
    }
   ],
   "source": [
    "ad2['Interaction'] = ad2['YouTube'] * ad2['Spotify']\n",
    "X = ad2[['YouTube','Spotify','Interaction']]\n",
    "y = ad2['Sales']\n",
    "X = sm.add_constant(X)\n",
    "model = sm.OLS(y, X).fit()\n",
    "print(model.summary())"
   ]
  },
  {
   "cell_type": "markdown",
   "id": "7877e5ca",
   "metadata": {},
   "source": [
    "### ii. \n",
    "The r-square with interaction is 0.968 -- higher than that without interaction (0.897). Since r-square indicates how well the model fits the data, it is clear to see the model performs better when considering the interaction between YouTube and Spotify ad spending."
   ]
  },
  {
   "cell_type": "code",
   "execution_count": 8,
   "id": "e94946d8",
   "metadata": {},
   "outputs": [
    {
     "name": "stdout",
     "output_type": "stream",
     "text": [
      "                            OLS Regression Results                            \n",
      "==============================================================================\n",
      "Dep. Variable:                  Sales   R-squared:                       0.968\n",
      "Model:                            OLS   Adj. R-squared:                  0.967\n",
      "Method:                 Least Squares   F-statistic:                     1963.\n",
      "Date:                Sat, 27 Jan 2024   Prob (F-statistic):          6.68e-146\n",
      "Time:                        20:59:14   Log-Likelihood:                -270.14\n",
      "No. Observations:                 200   AIC:                             548.3\n",
      "Df Residuals:                     196   BIC:                             561.5\n",
      "Df Model:                           3                                         \n",
      "Covariance Type:            nonrobust                                         \n",
      "===============================================================================\n",
      "                  coef    std err          t      P>|t|      [0.025      0.975]\n",
      "-------------------------------------------------------------------------------\n",
      "const           6.7502      0.248     27.233      0.000       6.261       7.239\n",
      "YouTube         0.0191      0.002     12.699      0.000       0.016       0.022\n",
      "Spotify         0.0289      0.009      3.241      0.001       0.011       0.046\n",
      "Interaction     0.0011   5.24e-05     20.727      0.000       0.001       0.001\n",
      "==============================================================================\n",
      "Omnibus:                      128.132   Durbin-Watson:                   2.224\n",
      "Prob(Omnibus):                  0.000   Jarque-Bera (JB):             1183.719\n",
      "Skew:                          -2.323   Prob(JB):                    9.09e-258\n",
      "Kurtosis:                      13.975   Cond. No.                     1.80e+04\n",
      "==============================================================================\n",
      "\n",
      "Notes:\n",
      "[1] Standard Errors assume that the covariance matrix of the errors is correctly specified.\n",
      "[2] The condition number is large, 1.8e+04. This might indicate that there are\n",
      "strong multicollinearity or other numerical problems.\n"
     ]
    }
   ],
   "source": [
    "X = ad2[['YouTube','Spotify']]\n",
    "y = ad2['Sales']\n",
    "X = sm.add_constant(X)\n",
    "model_nointeraction = sm.OLS(y, X).fit()\n",
    "print(model.summary())"
   ]
  },
  {
   "cell_type": "markdown",
   "id": "a097a879",
   "metadata": {},
   "source": [
    "### iii.\n",
    "\n",
    "With spending 150 on YouTube and 30 on Spotify, the Sales prediction (by using the model with interaction) is: 1,142.98"
   ]
  },
  {
   "cell_type": "code",
   "execution_count": 9,
   "id": "7f02c03a",
   "metadata": {},
   "outputs": [
    {
     "name": "stdout",
     "output_type": "stream",
     "text": [
      "Predicted Sales: 1142.98\n"
     ]
    }
   ],
   "source": [
    "YouTube = 150\n",
    "Spotify = 30\n",
    "\n",
    "input_data = pd.DataFrame({'YouTube': [YouTube],\n",
    "                           'Spotify': [Spotify],\n",
    "                           'Interaction': [YouTube * Spotify],\n",
    "                           'const': [1]})\n",
    "\n",
    "# Use the model to make predictions\n",
    "predicted_sales = model.predict(input_data)\n",
    "\n",
    "# Print the predicted sales outcome\n",
    "print(\"Predicted Sales:\", round(predicted_sales.iloc[0],2))\n"
   ]
  },
  {
   "cell_type": "markdown",
   "id": "ac1c9156",
   "metadata": {},
   "source": [
    "### iiii.\n",
    "\n",
    "In marketing terms, the interaction between YouTube and Spotify ad spending suggests that when you invest in both YouTube and Spotify ads simultaneously, their effectiveness in driving sales is not just additive but can create a synergy that leads to a greater boost in sales than using either platform alone. It highlights the importance of considering the joint influence of these advertising channels for optimizing marketing strategies and maximizing sales outcomes."
   ]
  },
  {
   "cell_type": "markdown",
   "id": "b5496e13",
   "metadata": {},
   "source": [
    "## f.\n",
    "\n",
    "I create an example involving an interaction term in a model. Imagine a marketing campaign where the two main variables are \"Advertisement Type\" (online ads vs. traditional media ads) and \"Discount Offered\" (low vs. high). The outcome variable I am interested in is \"Sales Increase.\n",
    "\n",
    "In this scenario, the interaction term is the combination of \"Advertisement Type\" and \"Discount Offered.\" It might turn out that online ads combined with a high discount lead to a significantly larger increase in sales than any other combination. This interaction effect is positive, as it enhances sales more than the sum of its parts.\n",
    "\n",
    "My reaction to this interaction is not surprise. It makes intuitive sense: online ads, which often have a more targeted reach, combined with attractive discounts, can be a powerful driver for consumer purchases. This synergy illustrates the importance of considering how different marketing strategies can complement each other, rather than just assessing them in isolation."
   ]
  }
 ],
 "metadata": {
  "kernelspec": {
   "display_name": "Python 3 (ipykernel)",
   "language": "python",
   "name": "python3"
  },
  "language_info": {
   "codemirror_mode": {
    "name": "ipython",
    "version": 3
   },
   "file_extension": ".py",
   "mimetype": "text/x-python",
   "name": "python",
   "nbconvert_exporter": "python",
   "pygments_lexer": "ipython3",
   "version": "3.10.9"
  }
 },
 "nbformat": 4,
 "nbformat_minor": 5
}
