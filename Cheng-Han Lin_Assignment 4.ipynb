{
 "cells": [
  {
   "cell_type": "code",
   "execution_count": 1,
   "id": "897a9937",
   "metadata": {},
   "outputs": [],
   "source": [
    "import numpy as np\n",
    "import pandas as pd\n",
    "import seaborn as sns\n",
    "import matplotlib.pyplot as plt\n",
    "from scipy import stats\n",
    "from scipy.stats import chisquare"
   ]
  },
  {
   "cell_type": "code",
   "execution_count": 2,
   "id": "65d127f3",
   "metadata": {},
   "outputs": [],
   "source": [
    "# import database\n",
    "df = pd.read_csv('/Users/leon/My Drive/BU ABA/AD654/Assignment 4/merch_23(1).csv')"
   ]
  },
  {
   "cell_type": "markdown",
   "id": "56fdc9ca",
   "metadata": {},
   "source": [
    "# A.\n",
    "Numeric: merch_total, return_total\n",
    "\n",
    "Categorical: day_code, returns,"
   ]
  },
  {
   "cell_type": "code",
   "execution_count": 3,
   "id": "3358aa4e",
   "metadata": {
    "scrolled": false
   },
   "outputs": [
    {
     "data": {
      "text/html": [
       "<div>\n",
       "<style scoped>\n",
       "    .dataframe tbody tr th:only-of-type {\n",
       "        vertical-align: middle;\n",
       "    }\n",
       "\n",
       "    .dataframe tbody tr th {\n",
       "        vertical-align: top;\n",
       "    }\n",
       "\n",
       "    .dataframe thead th {\n",
       "        text-align: right;\n",
       "    }\n",
       "</style>\n",
       "<table border=\"1\" class=\"dataframe\">\n",
       "  <thead>\n",
       "    <tr style=\"text-align: right;\">\n",
       "      <th></th>\n",
       "      <th>purchaseID</th>\n",
       "      <th>day_code</th>\n",
       "      <th>merch_total</th>\n",
       "      <th>returns</th>\n",
       "      <th>return_total</th>\n",
       "    </tr>\n",
       "  </thead>\n",
       "  <tbody>\n",
       "    <tr>\n",
       "      <th>0</th>\n",
       "      <td>1</td>\n",
       "      <td>R</td>\n",
       "      <td>17.23</td>\n",
       "      <td>0</td>\n",
       "      <td>0.00</td>\n",
       "    </tr>\n",
       "    <tr>\n",
       "      <th>1</th>\n",
       "      <td>2</td>\n",
       "      <td>W</td>\n",
       "      <td>34.83</td>\n",
       "      <td>0</td>\n",
       "      <td>0.00</td>\n",
       "    </tr>\n",
       "    <tr>\n",
       "      <th>2</th>\n",
       "      <td>3</td>\n",
       "      <td>R</td>\n",
       "      <td>25.02</td>\n",
       "      <td>1</td>\n",
       "      <td>6.26</td>\n",
       "    </tr>\n",
       "    <tr>\n",
       "      <th>3</th>\n",
       "      <td>4</td>\n",
       "      <td>R</td>\n",
       "      <td>39.15</td>\n",
       "      <td>0</td>\n",
       "      <td>0.00</td>\n",
       "    </tr>\n",
       "    <tr>\n",
       "      <th>4</th>\n",
       "      <td>5</td>\n",
       "      <td>H</td>\n",
       "      <td>18.38</td>\n",
       "      <td>0</td>\n",
       "      <td>0.00</td>\n",
       "    </tr>\n",
       "  </tbody>\n",
       "</table>\n",
       "</div>"
      ],
      "text/plain": [
       "   purchaseID day_code  merch_total  returns  return_total\n",
       "0           1        R        17.23        0          0.00\n",
       "1           2        W        34.83        0          0.00\n",
       "2           3        R        25.02        1          6.26\n",
       "3           4        R        39.15        0          0.00\n",
       "4           5        H        18.38        0          0.00"
      ]
     },
     "execution_count": 3,
     "metadata": {},
     "output_type": "execute_result"
    }
   ],
   "source": [
    "df.head()"
   ]
  },
  {
   "cell_type": "markdown",
   "id": "84848851",
   "metadata": {},
   "source": [
    "# B.\n",
    "\n",
    "Here is my proofread of your writing:\n",
    "\n",
    "The last item I ordered then returned is a hiking backpack bought on Amazon, because the size was not as expected even though there were dimensions in the description. \n",
    "\n",
    "I think many reasons can make the return process for online shopping too cumbersome for the consumer, like:\n",
    "\n",
    "- Unclear Instructions: Consumers might find it difficult to find the right place to start the return process, such as messy website content.\n",
    "\n",
    "- Strict Return Policies: Some merchants might require the product to be unopened and unused. \n",
    "\n",
    "- Inconvenient Return Locations: Some merchants might require consumers to ship back the product themselves, while there is no close drop-off location.\n",
    "\n",
    "- Long Wait Times for Refunds.\n",
    "\n",
    "Likewise, it also makes the return process cumbersome for online merchants in some aspects, such as:\n",
    "\n",
    "- Unpredictable Inventory: Returned items make inventory levels unpredictable -- having too many items would be wasteful, especially for those with short shelf lives.\n",
    "\n",
    "- Product Quality Concerns: Once an item is returned, we can't guarantee it's still brand-new. Re-shipping it to another consumer may reveal flaws and damage the company's image.\n",
    "\n",
    "- Extra Costs: If online merchants don't cover return shipping fees, the consumer may be dissatisfied."
   ]
  },
  {
   "cell_type": "markdown",
   "id": "ce745fca",
   "metadata": {},
   "source": [
    "# C.\n",
    "\n",
    "Before starting to analyze data, I want to check if there is any unnormal data."
   ]
  },
  {
   "cell_type": "code",
   "execution_count": 4,
   "id": "cb3dd181",
   "metadata": {
    "scrolled": true
   },
   "outputs": [
    {
     "data": {
      "text/plain": [
       "purchaseID      0\n",
       "day_code        0\n",
       "merch_total     0\n",
       "returns         0\n",
       "return_total    0\n",
       "dtype: int64"
      ]
     },
     "execution_count": 4,
     "metadata": {},
     "output_type": "execute_result"
    }
   ],
   "source": [
    "# Check the NA values\n",
    "df.isna().sum()"
   ]
  },
  {
   "cell_type": "markdown",
   "id": "be60f566",
   "metadata": {},
   "source": [
    "When checking the range of numeric variables, 'merch_total' and 'return_total' have megative values, which are quite not right since the min should be 0 --> meaning they did not spend any money. So I exclude thoes records since I cannot find any reasonable reason to replace negative values to other numeric such as 0 or mean."
   ]
  },
  {
   "cell_type": "code",
   "execution_count": 5,
   "id": "58072dd9",
   "metadata": {
    "scrolled": false
   },
   "outputs": [
    {
     "data": {
      "text/html": [
       "<div>\n",
       "<style scoped>\n",
       "    .dataframe tbody tr th:only-of-type {\n",
       "        vertical-align: middle;\n",
       "    }\n",
       "\n",
       "    .dataframe tbody tr th {\n",
       "        vertical-align: top;\n",
       "    }\n",
       "\n",
       "    .dataframe thead th {\n",
       "        text-align: right;\n",
       "    }\n",
       "</style>\n",
       "<table border=\"1\" class=\"dataframe\">\n",
       "  <thead>\n",
       "    <tr style=\"text-align: right;\">\n",
       "      <th></th>\n",
       "      <th>purchaseID</th>\n",
       "      <th>merch_total</th>\n",
       "      <th>returns</th>\n",
       "      <th>return_total</th>\n",
       "    </tr>\n",
       "  </thead>\n",
       "  <tbody>\n",
       "    <tr>\n",
       "      <th>count</th>\n",
       "      <td>2850.000000</td>\n",
       "      <td>2850.000000</td>\n",
       "      <td>2850.000000</td>\n",
       "      <td>2850.00000</td>\n",
       "    </tr>\n",
       "    <tr>\n",
       "      <th>mean</th>\n",
       "      <td>1425.500000</td>\n",
       "      <td>33.539060</td>\n",
       "      <td>0.370175</td>\n",
       "      <td>6.24307</td>\n",
       "    </tr>\n",
       "    <tr>\n",
       "      <th>std</th>\n",
       "      <td>822.868459</td>\n",
       "      <td>11.590251</td>\n",
       "      <td>0.482936</td>\n",
       "      <td>10.88461</td>\n",
       "    </tr>\n",
       "    <tr>\n",
       "      <th>min</th>\n",
       "      <td>1.000000</td>\n",
       "      <td>-7.000000</td>\n",
       "      <td>0.000000</td>\n",
       "      <td>-7.00000</td>\n",
       "    </tr>\n",
       "    <tr>\n",
       "      <th>25%</th>\n",
       "      <td>713.250000</td>\n",
       "      <td>25.782500</td>\n",
       "      <td>0.000000</td>\n",
       "      <td>0.00000</td>\n",
       "    </tr>\n",
       "    <tr>\n",
       "      <th>50%</th>\n",
       "      <td>1425.500000</td>\n",
       "      <td>33.630000</td>\n",
       "      <td>0.000000</td>\n",
       "      <td>0.00000</td>\n",
       "    </tr>\n",
       "    <tr>\n",
       "      <th>75%</th>\n",
       "      <td>2137.750000</td>\n",
       "      <td>41.190000</td>\n",
       "      <td>1.000000</td>\n",
       "      <td>9.80000</td>\n",
       "    </tr>\n",
       "    <tr>\n",
       "      <th>max</th>\n",
       "      <td>2850.000000</td>\n",
       "      <td>78.750000</td>\n",
       "      <td>1.000000</td>\n",
       "      <td>57.13000</td>\n",
       "    </tr>\n",
       "  </tbody>\n",
       "</table>\n",
       "</div>"
      ],
      "text/plain": [
       "        purchaseID  merch_total      returns  return_total\n",
       "count  2850.000000  2850.000000  2850.000000    2850.00000\n",
       "mean   1425.500000    33.539060     0.370175       6.24307\n",
       "std     822.868459    11.590251     0.482936      10.88461\n",
       "min       1.000000    -7.000000     0.000000      -7.00000\n",
       "25%     713.250000    25.782500     0.000000       0.00000\n",
       "50%    1425.500000    33.630000     0.000000       0.00000\n",
       "75%    2137.750000    41.190000     1.000000       9.80000\n",
       "max    2850.000000    78.750000     1.000000      57.13000"
      ]
     },
     "execution_count": 5,
     "metadata": {},
     "output_type": "execute_result"
    }
   ],
   "source": [
    "# check numeric variable\n",
    "df.describe()"
   ]
  },
  {
   "cell_type": "code",
   "execution_count": 6,
   "id": "da646ab7",
   "metadata": {},
   "outputs": [
    {
     "data": {
      "text/html": [
       "<div>\n",
       "<style scoped>\n",
       "    .dataframe tbody tr th:only-of-type {\n",
       "        vertical-align: middle;\n",
       "    }\n",
       "\n",
       "    .dataframe tbody tr th {\n",
       "        vertical-align: top;\n",
       "    }\n",
       "\n",
       "    .dataframe thead th {\n",
       "        text-align: right;\n",
       "    }\n",
       "</style>\n",
       "<table border=\"1\" class=\"dataframe\">\n",
       "  <thead>\n",
       "    <tr style=\"text-align: right;\">\n",
       "      <th></th>\n",
       "      <th>purchaseID</th>\n",
       "      <th>day_code</th>\n",
       "      <th>merch_total</th>\n",
       "      <th>returns</th>\n",
       "      <th>return_total</th>\n",
       "    </tr>\n",
       "  </thead>\n",
       "  <tbody>\n",
       "    <tr>\n",
       "      <th>416</th>\n",
       "      <td>417</td>\n",
       "      <td>W</td>\n",
       "      <td>-1.25</td>\n",
       "      <td>0</td>\n",
       "      <td>-1.25</td>\n",
       "    </tr>\n",
       "    <tr>\n",
       "      <th>1276</th>\n",
       "      <td>1277</td>\n",
       "      <td>R</td>\n",
       "      <td>-0.33</td>\n",
       "      <td>0</td>\n",
       "      <td>-0.33</td>\n",
       "    </tr>\n",
       "    <tr>\n",
       "      <th>1545</th>\n",
       "      <td>1546</td>\n",
       "      <td>W</td>\n",
       "      <td>-3.82</td>\n",
       "      <td>1</td>\n",
       "      <td>-3.82</td>\n",
       "    </tr>\n",
       "    <tr>\n",
       "      <th>1583</th>\n",
       "      <td>1584</td>\n",
       "      <td>R</td>\n",
       "      <td>-6.05</td>\n",
       "      <td>0</td>\n",
       "      <td>-6.05</td>\n",
       "    </tr>\n",
       "    <tr>\n",
       "      <th>1866</th>\n",
       "      <td>1867</td>\n",
       "      <td>R</td>\n",
       "      <td>-6.36</td>\n",
       "      <td>1</td>\n",
       "      <td>-6.36</td>\n",
       "    </tr>\n",
       "    <tr>\n",
       "      <th>2143</th>\n",
       "      <td>2144</td>\n",
       "      <td>R</td>\n",
       "      <td>-7.00</td>\n",
       "      <td>0</td>\n",
       "      <td>-7.00</td>\n",
       "    </tr>\n",
       "    <tr>\n",
       "      <th>2253</th>\n",
       "      <td>2254</td>\n",
       "      <td>R</td>\n",
       "      <td>-4.49</td>\n",
       "      <td>1</td>\n",
       "      <td>-4.49</td>\n",
       "    </tr>\n",
       "  </tbody>\n",
       "</table>\n",
       "</div>"
      ],
      "text/plain": [
       "      purchaseID day_code  merch_total  returns  return_total\n",
       "416          417        W        -1.25        0         -1.25\n",
       "1276        1277        R        -0.33        0         -0.33\n",
       "1545        1546        W        -3.82        1         -3.82\n",
       "1583        1584        R        -6.05        0         -6.05\n",
       "1866        1867        R        -6.36        1         -6.36\n",
       "2143        2144        R        -7.00        0         -7.00\n",
       "2253        2254        R        -4.49        1         -4.49"
      ]
     },
     "execution_count": 6,
     "metadata": {},
     "output_type": "execute_result"
    }
   ],
   "source": [
    "df[df['merch_total'] < 0]"
   ]
  },
  {
   "cell_type": "code",
   "execution_count": 7,
   "id": "809985c0",
   "metadata": {},
   "outputs": [
    {
     "data": {
      "text/plain": [
       "[417, 1277, 1546, 1584, 1867, 2144, 2254]"
      ]
     },
     "execution_count": 7,
     "metadata": {},
     "output_type": "execute_result"
    }
   ],
   "source": [
    "# identiy which purchaseID are invalid\n",
    "invalid_ID = []\n",
    "for index, row in df.iterrows():\n",
    "    if row['merch_total'] < 0:\n",
    "        invalid_ID.append(row['purchaseID'])\n",
    "invalid_ID"
   ]
  },
  {
   "cell_type": "code",
   "execution_count": 8,
   "id": "116f88b0",
   "metadata": {},
   "outputs": [
    {
     "data": {
      "text/html": [
       "<div>\n",
       "<style scoped>\n",
       "    .dataframe tbody tr th:only-of-type {\n",
       "        vertical-align: middle;\n",
       "    }\n",
       "\n",
       "    .dataframe tbody tr th {\n",
       "        vertical-align: top;\n",
       "    }\n",
       "\n",
       "    .dataframe thead th {\n",
       "        text-align: right;\n",
       "    }\n",
       "</style>\n",
       "<table border=\"1\" class=\"dataframe\">\n",
       "  <thead>\n",
       "    <tr style=\"text-align: right;\">\n",
       "      <th></th>\n",
       "      <th>purchaseID</th>\n",
       "      <th>merch_total</th>\n",
       "      <th>returns</th>\n",
       "      <th>return_total</th>\n",
       "    </tr>\n",
       "  </thead>\n",
       "  <tbody>\n",
       "    <tr>\n",
       "      <th>count</th>\n",
       "      <td>2843.000000</td>\n",
       "      <td>2843.000000</td>\n",
       "      <td>2843.000000</td>\n",
       "      <td>2843.000000</td>\n",
       "    </tr>\n",
       "    <tr>\n",
       "      <th>mean</th>\n",
       "      <td>1425.109391</td>\n",
       "      <td>33.631945</td>\n",
       "      <td>0.370032</td>\n",
       "      <td>6.268748</td>\n",
       "    </tr>\n",
       "    <tr>\n",
       "      <th>std</th>\n",
       "      <td>823.352157</td>\n",
       "      <td>11.451499</td>\n",
       "      <td>0.482898</td>\n",
       "      <td>10.885035</td>\n",
       "    </tr>\n",
       "    <tr>\n",
       "      <th>min</th>\n",
       "      <td>1.000000</td>\n",
       "      <td>1.600000</td>\n",
       "      <td>0.000000</td>\n",
       "      <td>0.000000</td>\n",
       "    </tr>\n",
       "    <tr>\n",
       "      <th>25%</th>\n",
       "      <td>712.500000</td>\n",
       "      <td>25.845000</td>\n",
       "      <td>0.000000</td>\n",
       "      <td>0.000000</td>\n",
       "    </tr>\n",
       "    <tr>\n",
       "      <th>50%</th>\n",
       "      <td>1424.000000</td>\n",
       "      <td>33.650000</td>\n",
       "      <td>0.000000</td>\n",
       "      <td>0.000000</td>\n",
       "    </tr>\n",
       "    <tr>\n",
       "      <th>75%</th>\n",
       "      <td>2137.500000</td>\n",
       "      <td>41.205000</td>\n",
       "      <td>1.000000</td>\n",
       "      <td>9.860000</td>\n",
       "    </tr>\n",
       "    <tr>\n",
       "      <th>max</th>\n",
       "      <td>2850.000000</td>\n",
       "      <td>78.750000</td>\n",
       "      <td>1.000000</td>\n",
       "      <td>57.130000</td>\n",
       "    </tr>\n",
       "  </tbody>\n",
       "</table>\n",
       "</div>"
      ],
      "text/plain": [
       "        purchaseID  merch_total      returns  return_total\n",
       "count  2843.000000  2843.000000  2843.000000   2843.000000\n",
       "mean   1425.109391    33.631945     0.370032      6.268748\n",
       "std     823.352157    11.451499     0.482898     10.885035\n",
       "min       1.000000     1.600000     0.000000      0.000000\n",
       "25%     712.500000    25.845000     0.000000      0.000000\n",
       "50%    1424.000000    33.650000     0.000000      0.000000\n",
       "75%    2137.500000    41.205000     1.000000      9.860000\n",
       "max    2850.000000    78.750000     1.000000     57.130000"
      ]
     },
     "execution_count": 8,
     "metadata": {},
     "output_type": "execute_result"
    }
   ],
   "source": [
    "# Remove invalid purchaseID and check again\n",
    "df2 = df[~df['purchaseID'].isin(invalid_ID)]\n",
    "df2.describe()"
   ]
  },
  {
   "cell_type": "markdown",
   "id": "00d9d9e2",
   "metadata": {},
   "source": [
    "# Observation from the plot\n",
    "After removing invalid records, I built the plot to see the average merchandise total for each day type. The day type with the highest average merchandise total is 'Holiday', followed by 'Regular', then 'Weekend'. \n",
    "\n",
    "Higher average spending on holidays is expected, as holidays often make people happier, thus boosting their desire to spend more on items that bring them joy—a sentiment echoed by numerous psychologists according to my research on Google. \n",
    "\n",
    "Surprisingly, the average spending on regular days is slightly higher than on weekends, when people usually feel happier. If there are no special promotions during regular days, this suggests that other factors may contribute to this situation, such as work-related stress leading people to seek relief through online shopping, and this is a opportunity for us to increase the revenue with more analysis."
   ]
  },
  {
   "cell_type": "code",
   "execution_count": 9,
   "id": "7a31b481",
   "metadata": {},
   "outputs": [
    {
     "data": {
      "text/plain": [
       "Text(0, 0.5, 'Average Merch Total')"
      ]
     },
     "execution_count": 9,
     "metadata": {},
     "output_type": "execute_result"
    },
    {
     "data": {
      "image/png": "[encoded data removed]",
      "text/plain": [
       "<Figure size 640x480 with 1 Axes>"
      ]
     },
     "metadata": {},
     "output_type": "display_data"
    }
   ],
   "source": [
    "# Plotting\n",
    "code_to_day = {'H': 'Holiday', 'R': 'Regular', 'W': 'Weekend'}\n",
    "avg_merch_daytype = df2.groupby('day_code')['merch_total'].mean().reset_index()\n",
    "avg_merch_daytype['day_code'] = avg_merch_daytype['day_code'].map(code_to_day)\n",
    "sns.barplot(x = 'day_code',y='merch_total',data = avg_merch_daytype,errorbar=None)\n",
    "plt.title('Average merch total in each day type')\n",
    "plt.xlabel('Day Type')\n",
    "plt.ylabel('Average Merch Total')"
   ]
  },
  {
   "cell_type": "markdown",
   "id": "ae426cdd",
   "metadata": {},
   "source": [
    "# D."
   ]
  },
  {
   "cell_type": "code",
   "execution_count": 10,
   "id": "422945ec",
   "metadata": {},
   "outputs": [
    {
     "name": "stderr",
     "output_type": "stream",
     "text": [
      "/var/folders/gn/9mm5s2ks2t5_qlwl1wbn4vp40000gn/T/ipykernel_31868/4064899382.py:2: SettingWithCopyWarning: \n",
      "A value is trying to be set on a copy of a slice from a DataFrame.\n",
      "Try using .loc[row_indexer,col_indexer] = value instead\n",
      "\n",
      "See the caveats in the documentation: https://pandas.pydata.org/pandas-docs/stable/user_guide/indexing.html#returning-a-view-versus-a-copy\n",
      "  df3['return_proportion'] = df3['return_total'] / df3['merch_total']\n"
     ]
    },
    {
     "data": {
      "text/html": [
       "<div>\n",
       "<style scoped>\n",
       "    .dataframe tbody tr th:only-of-type {\n",
       "        vertical-align: middle;\n",
       "    }\n",
       "\n",
       "    .dataframe tbody tr th {\n",
       "        vertical-align: top;\n",
       "    }\n",
       "\n",
       "    .dataframe thead th {\n",
       "        text-align: right;\n",
       "    }\n",
       "</style>\n",
       "<table border=\"1\" class=\"dataframe\">\n",
       "  <thead>\n",
       "    <tr style=\"text-align: right;\">\n",
       "      <th></th>\n",
       "      <th>purchaseID</th>\n",
       "      <th>day_code</th>\n",
       "      <th>merch_total</th>\n",
       "      <th>returns</th>\n",
       "      <th>return_total</th>\n",
       "      <th>return_proportion</th>\n",
       "    </tr>\n",
       "  </thead>\n",
       "  <tbody>\n",
       "    <tr>\n",
       "      <th>0</th>\n",
       "      <td>1</td>\n",
       "      <td>R</td>\n",
       "      <td>17.23</td>\n",
       "      <td>0</td>\n",
       "      <td>0.00</td>\n",
       "      <td>0.0000</td>\n",
       "    </tr>\n",
       "    <tr>\n",
       "      <th>1</th>\n",
       "      <td>2</td>\n",
       "      <td>W</td>\n",
       "      <td>34.83</td>\n",
       "      <td>0</td>\n",
       "      <td>0.00</td>\n",
       "      <td>0.0000</td>\n",
       "    </tr>\n",
       "    <tr>\n",
       "      <th>2</th>\n",
       "      <td>3</td>\n",
       "      <td>R</td>\n",
       "      <td>25.02</td>\n",
       "      <td>1</td>\n",
       "      <td>6.26</td>\n",
       "      <td>0.2502</td>\n",
       "    </tr>\n",
       "    <tr>\n",
       "      <th>3</th>\n",
       "      <td>4</td>\n",
       "      <td>R</td>\n",
       "      <td>39.15</td>\n",
       "      <td>0</td>\n",
       "      <td>0.00</td>\n",
       "      <td>0.0000</td>\n",
       "    </tr>\n",
       "    <tr>\n",
       "      <th>4</th>\n",
       "      <td>5</td>\n",
       "      <td>H</td>\n",
       "      <td>18.38</td>\n",
       "      <td>0</td>\n",
       "      <td>0.00</td>\n",
       "      <td>0.0000</td>\n",
       "    </tr>\n",
       "  </tbody>\n",
       "</table>\n",
       "</div>"
      ],
      "text/plain": [
       "   purchaseID day_code  merch_total  returns  return_total  return_proportion\n",
       "0           1        R        17.23        0          0.00             0.0000\n",
       "1           2        W        34.83        0          0.00             0.0000\n",
       "2           3        R        25.02        1          6.26             0.2502\n",
       "3           4        R        39.15        0          0.00             0.0000\n",
       "4           5        H        18.38        0          0.00             0.0000"
      ]
     },
     "execution_count": 10,
     "metadata": {},
     "output_type": "execute_result"
    }
   ],
   "source": [
    "df3 = df2\n",
    "df3['return_proportion'] = df3['return_total'] / df3['merch_total']\n",
    "df3.head()"
   ]
  },
  {
   "cell_type": "markdown",
   "id": "9e11188f",
   "metadata": {},
   "source": [
    "# E.\n",
    "\n",
    "## a.\n",
    "The null hypothesis here is that 'there is no difference between the means of the two groups being compared\".\n",
    "\n",
    "## b.\n",
    "I prefer to use alpha = 0.05 as my threshold for this test, because I think 0.05 can apply to general test situation except for those require extreme precise outcome, such as life science.\n",
    "\n",
    "## c.\n",
    "The Bonferroni correction is a statistical adjustment made to counteract the problem of multiple comparisons. It is used to reduce the chances of obtaining false-positive results (Type I errors) when performing multiple statistical tests.\n",
    "\n",
    "The correction with Bonferroni is `corrected alpha = original alpha / number of comparisions`\n",
    "\n",
    "## d.\n",
    "My new alpha htreshold under Bonferroni correction is `0.05 / 3 = 0.0167`\n",
    "\n",
    "## e."
   ]
  },
  {
   "cell_type": "code",
   "execution_count": 11,
   "id": "4b63365c",
   "metadata": {},
   "outputs": [
    {
     "data": {
      "text/plain": [
       "day_code\n",
       "H    0.218212\n",
       "R    0.174891\n",
       "W    0.182865\n",
       "Name: return_proportion, dtype: float64"
      ]
     },
     "execution_count": 11,
     "metadata": {},
     "output_type": "execute_result"
    }
   ],
   "source": [
    "df3.groupby('day_code')['return_proportion'].mean()"
   ]
  },
  {
   "cell_type": "code",
   "execution_count": 12,
   "id": "54ab3203",
   "metadata": {},
   "outputs": [
    {
     "data": {
      "text/html": [
       "<div>\n",
       "<style scoped>\n",
       "    .dataframe tbody tr th:only-of-type {\n",
       "        vertical-align: middle;\n",
       "    }\n",
       "\n",
       "    .dataframe tbody tr th {\n",
       "        vertical-align: top;\n",
       "    }\n",
       "\n",
       "    .dataframe thead th {\n",
       "        text-align: right;\n",
       "    }\n",
       "</style>\n",
       "<table border=\"1\" class=\"dataframe\">\n",
       "  <thead>\n",
       "    <tr style=\"text-align: right;\">\n",
       "      <th></th>\n",
       "      <th>Comparison</th>\n",
       "      <th>p value</th>\n",
       "      <th>Test Result</th>\n",
       "    </tr>\n",
       "  </thead>\n",
       "  <tbody>\n",
       "    <tr>\n",
       "      <th>0</th>\n",
       "      <td>Weekend x Regular Day</td>\n",
       "      <td>0.512313</td>\n",
       "      <td>Accept null hypothesis</td>\n",
       "    </tr>\n",
       "    <tr>\n",
       "      <th>1</th>\n",
       "      <td>Weenend x Holiday</td>\n",
       "      <td>0.040996</td>\n",
       "      <td>Accept null hypothesis</td>\n",
       "    </tr>\n",
       "    <tr>\n",
       "      <th>2</th>\n",
       "      <td>Regular Day x Holiday</td>\n",
       "      <td>0.008406</td>\n",
       "      <td>Reject null hypothesis</td>\n",
       "    </tr>\n",
       "  </tbody>\n",
       "</table>\n",
       "</div>"
      ],
      "text/plain": [
       "              Comparison   p value             Test Result\n",
       "0  Weekend x Regular Day  0.512313  Accept null hypothesis\n",
       "1      Weenend x Holiday  0.040996  Accept null hypothesis\n",
       "2  Regular Day x Holiday  0.008406  Reject null hypothesis"
      ]
     },
     "execution_count": 12,
     "metadata": {},
     "output_type": "execute_result"
    }
   ],
   "source": [
    "# Performaing t test\n",
    "a = 0.0167\n",
    "t_WR,p_WR = stats.ttest_ind(df3.loc[df3['day_code']=='W','return_proportion'].values,\n",
    "                     df3.loc[df3['day_code']=='R','return_proportion'].values,equal_var=False)\n",
    "t_WH,p_WH = stats.ttest_ind(df3.loc[df3['day_code']=='W','return_proportion'].values,\n",
    "                     df3.loc[df3['day_code']=='H','return_proportion'].values,equal_var=False)\n",
    "t_RH,p_RH = stats.ttest_ind(df3.loc[df3['day_code']=='R','return_proportion'].values,\n",
    "                     df3.loc[df3['day_code']=='H','return_proportion'].values,equal_var=False)\n",
    "p_result = [p_WR,p_WH,p_RH]\n",
    "a_result = [\"Reject null hypothesis\" if i < a else \"Accept null hypothesis\" for i in p_result]\n",
    "ttest_result = pd.DataFrame({\n",
    "    'Comparison' : ['Weekend x Regular Day','Weenend x Holiday','Regular Day x Holiday'],\n",
    "    'p value' : p_result,\n",
    "    'Test Result' : a_result\n",
    "})\n",
    "ttest_result"
   ]
  },
  {
   "cell_type": "markdown",
   "id": "e1f3ccdc",
   "metadata": {},
   "source": [
    "The t-test results indicate that there is no significant difference in the return proportion between weekends and regular days (p = 0.512313) or weekends and holidays (p = 0.040996), meaning customers are returning goods at similar rates across these day types. However, the return proportion is significantly different between regular days and holidays (p = 0.008406), meaning customers are actually return more items purchased on holiday comparing to regular day.\n",
    "\n",
    "I think the management can analyze the types of products purchased and the promotions run on holidays that result in lower return rates, with the aim of replicating successful aspects throughout the year."
   ]
  },
  {
   "cell_type": "markdown",
   "id": "ee9ef0bf",
   "metadata": {},
   "source": [
    "# F."
   ]
  },
  {
   "cell_type": "code",
   "execution_count": 13,
   "id": "b82845fd",
   "metadata": {},
   "outputs": [
    {
     "data": {
      "text/html": [
       "<div>\n",
       "<style scoped>\n",
       "    .dataframe tbody tr th:only-of-type {\n",
       "        vertical-align: middle;\n",
       "    }\n",
       "\n",
       "    .dataframe tbody tr th {\n",
       "        vertical-align: top;\n",
       "    }\n",
       "\n",
       "    .dataframe thead th {\n",
       "        text-align: right;\n",
       "    }\n",
       "</style>\n",
       "<table border=\"1\" class=\"dataframe\">\n",
       "  <thead>\n",
       "    <tr style=\"text-align: right;\">\n",
       "      <th></th>\n",
       "      <th>purchaseID</th>\n",
       "      <th>day_code</th>\n",
       "      <th>merch_total</th>\n",
       "      <th>returns</th>\n",
       "      <th>return_total</th>\n",
       "      <th>return_proportion</th>\n",
       "    </tr>\n",
       "  </thead>\n",
       "  <tbody>\n",
       "    <tr>\n",
       "      <th>2</th>\n",
       "      <td>3</td>\n",
       "      <td>R</td>\n",
       "      <td>25.02</td>\n",
       "      <td>1</td>\n",
       "      <td>6.26</td>\n",
       "      <td>0.250200</td>\n",
       "    </tr>\n",
       "    <tr>\n",
       "      <th>6</th>\n",
       "      <td>7</td>\n",
       "      <td>W</td>\n",
       "      <td>33.61</td>\n",
       "      <td>1</td>\n",
       "      <td>29.07</td>\n",
       "      <td>0.864921</td>\n",
       "    </tr>\n",
       "    <tr>\n",
       "      <th>8</th>\n",
       "      <td>9</td>\n",
       "      <td>W</td>\n",
       "      <td>27.59</td>\n",
       "      <td>1</td>\n",
       "      <td>5.98</td>\n",
       "      <td>0.216745</td>\n",
       "    </tr>\n",
       "    <tr>\n",
       "      <th>9</th>\n",
       "      <td>10</td>\n",
       "      <td>W</td>\n",
       "      <td>16.61</td>\n",
       "      <td>1</td>\n",
       "      <td>9.44</td>\n",
       "      <td>0.568332</td>\n",
       "    </tr>\n",
       "    <tr>\n",
       "      <th>10</th>\n",
       "      <td>11</td>\n",
       "      <td>W</td>\n",
       "      <td>29.32</td>\n",
       "      <td>1</td>\n",
       "      <td>0.62</td>\n",
       "      <td>0.021146</td>\n",
       "    </tr>\n",
       "  </tbody>\n",
       "</table>\n",
       "</div>"
      ],
      "text/plain": [
       "    purchaseID day_code  merch_total  returns  return_total  return_proportion\n",
       "2            3        R        25.02        1          6.26           0.250200\n",
       "6            7        W        33.61        1         29.07           0.864921\n",
       "8            9        W        27.59        1          5.98           0.216745\n",
       "9           10        W        16.61        1          9.44           0.568332\n",
       "10          11        W        29.32        1          0.62           0.021146"
      ]
     },
     "execution_count": 13,
     "metadata": {},
     "output_type": "execute_result"
    }
   ],
   "source": [
    "df4 = df3[df3['returns'] == 1]\n",
    "df4.head()"
   ]
  },
  {
   "cell_type": "code",
   "execution_count": 14,
   "id": "24c54482",
   "metadata": {},
   "outputs": [
    {
     "data": {
      "text/html": [
       "<div>\n",
       "<style scoped>\n",
       "    .dataframe tbody tr th:only-of-type {\n",
       "        vertical-align: middle;\n",
       "    }\n",
       "\n",
       "    .dataframe tbody tr th {\n",
       "        vertical-align: top;\n",
       "    }\n",
       "\n",
       "    .dataframe thead th {\n",
       "        text-align: right;\n",
       "    }\n",
       "</style>\n",
       "<table border=\"1\" class=\"dataframe\">\n",
       "  <thead>\n",
       "    <tr style=\"text-align: right;\">\n",
       "      <th></th>\n",
       "      <th>Comparison</th>\n",
       "      <th>p value</th>\n",
       "      <th>Test Result</th>\n",
       "    </tr>\n",
       "  </thead>\n",
       "  <tbody>\n",
       "    <tr>\n",
       "      <th>0</th>\n",
       "      <td>Weekend x Regular Day</td>\n",
       "      <td>0.460235</td>\n",
       "      <td>Accept null hypothesis</td>\n",
       "    </tr>\n",
       "    <tr>\n",
       "      <th>1</th>\n",
       "      <td>Weenend x Holiday</td>\n",
       "      <td>0.000317</td>\n",
       "      <td>Accept null hypothesis</td>\n",
       "    </tr>\n",
       "    <tr>\n",
       "      <th>2</th>\n",
       "      <td>Regular Day x Holiday</td>\n",
       "      <td>0.000013</td>\n",
       "      <td>Reject null hypothesis</td>\n",
       "    </tr>\n",
       "  </tbody>\n",
       "</table>\n",
       "</div>"
      ],
      "text/plain": [
       "              Comparison   p value             Test Result\n",
       "0  Weekend x Regular Day  0.460235  Accept null hypothesis\n",
       "1      Weenend x Holiday  0.000317  Accept null hypothesis\n",
       "2  Regular Day x Holiday  0.000013  Reject null hypothesis"
      ]
     },
     "execution_count": 14,
     "metadata": {},
     "output_type": "execute_result"
    }
   ],
   "source": [
    "a = 0.0167\n",
    "t_WR_return,p_WR_return = stats.ttest_ind(df4.loc[df4['day_code']=='W','return_proportion'].values,\n",
    "                     df4.loc[df4['day_code']=='R','return_proportion'].values,equal_var=False)\n",
    "t_WH_return,p_WH_return = stats.ttest_ind(df4.loc[df4['day_code']=='W','return_proportion'].values,\n",
    "                     df4.loc[df4['day_code']=='H','return_proportion'].values,equal_var=False)\n",
    "t_RH_return,p_RH_return = stats.ttest_ind(df4.loc[df4['day_code']=='R','return_proportion'].values,\n",
    "                     df4.loc[df4['day_code']=='H','return_proportion'].values,equal_var=False)\n",
    "p_result_return = [p_WR_return,p_WH_return,p_RH_return]\n",
    "a_result_return = [\"Reject null hypothesis\" if i < a else \"Accept null hypothesis\" for i in p_result]\n",
    "ttest_result_return = pd.DataFrame({\n",
    "    'Comparison' : ['Weekend x Regular Day','Weenend x Holiday','Regular Day x Holiday'],\n",
    "    'p value' : p_result_return,\n",
    "    'Test Result' : a_result_return\n",
    "})\n",
    "ttest_result_return"
   ]
  },
  {
   "cell_type": "markdown",
   "id": "7d3bc7a5",
   "metadata": {},
   "source": [
    "When focusing on those who returned something, there is even a significant differences between weekend and holiday day, indicating that the management should put extra effor on reviewing holiday promotions and products. Some issues might be misleading promotion on holidays or lower-quality products on holiday."
   ]
  },
  {
   "cell_type": "markdown",
   "id": "f12693bf",
   "metadata": {},
   "source": [
    "# Part II Chi-Square Goodness of Fit\n",
    "\n",
    "## A. Testing whether day type impacts the likelihood that a consumer will return something after making a purchase.\n",
    "The null hypothesis here would be \"there is no impact of returning goods based on different day type\", so our `expected returns on each day type`would be: `( Total purchases / Total returns) × Total purchases for day type `.\n",
    "\n",
    "\n",
    "The return rate is 37%, calculating based on the `total return number / total purchase number`.\n",
    "From the calculation, the expected returns of each day type is approximately:\n",
    "- Holiday: 206\n",
    "- Regular Day: 485\n",
    "- Weekend: 359"
   ]
  },
  {
   "cell_type": "code",
   "execution_count": 15,
   "id": "155dc0ee",
   "metadata": {},
   "outputs": [
    {
     "name": "stdout",
     "output_type": "stream",
     "text": [
      "Return rate is:  0.37\n",
      "Expected return on Holiday, Regular Day and Weekend is:  [206.84769609567363, 485.8515652479776, 359.300738656349]\n"
     ]
    }
   ],
   "source": [
    "# expeted and actual returns on each day type\n",
    "return_rate = round(len(df4) / len(df3),2)\n",
    "print('Return rate is: ',return_rate)\n",
    "day_type = ['Holiday','Regular Day','Weekend']\n",
    "expected = [len(df3[df3['day_code'] == 'H']) * return_rate,\n",
    "           len(df3[df3['day_code'] == 'R'])*return_rate,\n",
    "            len(df3[df3['day_code'] == 'W'])*return_rate]\n",
    "proportional_factor = len(df4) / sum(expected)\n",
    "adjusted_expected = [value * proportional_factor for value in expected]\n",
    "\n",
    "print('Expected return on Holiday, Regular Day and Weekend is: ',adjusted_expected)"
   ]
  },
  {
   "cell_type": "markdown",
   "id": "6ba3eab4",
   "metadata": {},
   "source": [
    "## B. Using the actual and run the chi-square test.\n",
    "\n",
    "The p-value is 0.97 -- far larger than my ahpla threshold (0.05), meaning based on this statistical testing I do not have evidence to reject null hyphothesis.\n",
    "\n",
    "The conclusion from the chi-square testing is that different day type does not impact the likelihood that a consumer will return something after making a purchase. "
   ]
  },
  {
   "cell_type": "code",
   "execution_count": 16,
   "id": "984532fa",
   "metadata": {},
   "outputs": [
    {
     "data": {
      "text/html": [
       "<div>\n",
       "<style scoped>\n",
       "    .dataframe tbody tr th:only-of-type {\n",
       "        vertical-align: middle;\n",
       "    }\n",
       "\n",
       "    .dataframe tbody tr th {\n",
       "        vertical-align: top;\n",
       "    }\n",
       "\n",
       "    .dataframe thead th {\n",
       "        text-align: right;\n",
       "    }\n",
       "</style>\n",
       "<table border=\"1\" class=\"dataframe\">\n",
       "  <thead>\n",
       "    <tr style=\"text-align: right;\">\n",
       "      <th></th>\n",
       "      <th>day type</th>\n",
       "      <th>Expect</th>\n",
       "      <th>Actual</th>\n",
       "    </tr>\n",
       "  </thead>\n",
       "  <tbody>\n",
       "    <tr>\n",
       "      <th>0</th>\n",
       "      <td>Holiday</td>\n",
       "      <td>206.847696</td>\n",
       "      <td>208</td>\n",
       "    </tr>\n",
       "    <tr>\n",
       "      <th>1</th>\n",
       "      <td>Regular Day</td>\n",
       "      <td>485.851565</td>\n",
       "      <td>482</td>\n",
       "    </tr>\n",
       "    <tr>\n",
       "      <th>2</th>\n",
       "      <td>Weekend</td>\n",
       "      <td>359.300739</td>\n",
       "      <td>362</td>\n",
       "    </tr>\n",
       "  </tbody>\n",
       "</table>\n",
       "</div>"
      ],
      "text/plain": [
       "      day type      Expect  Actual\n",
       "0      Holiday  206.847696     208\n",
       "1  Regular Day  485.851565     482\n",
       "2      Weekend  359.300739     362"
      ]
     },
     "execution_count": 16,
     "metadata": {},
     "output_type": "execute_result"
    }
   ],
   "source": [
    "actual = [len(df4[df4['day_code'] == 'H']),\n",
    "           len(df4[df4['day_code'] == 'R']),\n",
    "            len(df4[df4['day_code'] == 'W'])]\n",
    "chi_df = pd.DataFrame({\n",
    "    'day type':day_type,\n",
    "    'Expect': adjusted_expected,\n",
    "    'Actual': actual\n",
    "})\n",
    "\n",
    "chi_df"
   ]
  },
  {
   "cell_type": "code",
   "execution_count": 17,
   "id": "ae9b25c6",
   "metadata": {},
   "outputs": [
    {
     "ename": "SyntaxError",
     "evalue": "incomplete input (2434410219.py, line 3)",
     "output_type": "error",
     "traceback": [
      "\u001b[0;36m  Cell \u001b[0;32mIn[17], line 3\u001b[0;36m\u001b[0m\n\u001b[0;31m    print('p-value is: ',p_chi\u001b[0m\n\u001b[0m                              ^\u001b[0m\n\u001b[0;31mSyntaxError\u001b[0m\u001b[0;31m:\u001b[0m incomplete input\n"
     ]
    }
   ],
   "source": [
    "chi,p_chi = chisquare(f_obs =chi_df.iloc[:,1] ,f_exp = chi_df.iloc[:,2])\n",
    "print('The chisquare value is: ',chi)\n",
    "print('p-value is: ',p_chi)"
   ]
  },
  {
   "cell_type": "markdown",
   "id": "1f2eab8f",
   "metadata": {},
   "source": [
    "## C. Calculating chi-square number"
   ]
  },
  {
   "cell_type": "code",
   "execution_count": 18,
   "id": "d5e57243",
   "metadata": {},
   "outputs": [
    {
     "name": "stdout",
     "output_type": "stream",
     "text": [
      "The chi number is:  0.05723064753543601\n"
     ]
    }
   ],
   "source": [
    "chi_number = []\n",
    "for index, row in chi_df.iterrows():\n",
    "    chi_value = ((row['Actual'] - row['Expect']) ** 2) / row['Expect']\n",
    "    chi_number.append(chi_value)\n",
    "\n",
    "chi_square_statistic = sum(chi_number)\n",
    "print('The chi number is: ',chi_square_statistic)\n"
   ]
  },
  {
   "cell_type": "markdown",
   "id": "a8e3006b",
   "metadata": {},
   "source": [
    "# Part III Analysis on Tableau"
   ]
  },
  {
   "cell_type": "markdown",
   "id": "74ee04a4",
   "metadata": {},
   "source": [
    "In the top left bar plot comparing the average merch_total on each day code, we can seep people spend more in \"holiday\" in average comparing to regular day and weekend. As we look in more depth from the boxplot in top right, the distrubition in holiday is also higher than other two day types, even the minumim spending in holiday is quite equivlent to the Q1 of other two day types.\n",
    "\n",
    "Then in the bottom left we can check the correlation of merch_total and return_total of each day type, and we discover that in holiday, people who spend more on initial purchase will likely return more, indicating there might be some reason causing those who making purchase on holiday feel unsatisfied. Lastly in the pie chart on the botton right, we can see the percentage of how many people making returns regarless of day code, which is 62.98%. In total this is still a large percentage -- more than 50%, so I think we can also make more analysis on the reason why people making returns."
   ]
  },
  {
   "attachments": {
    "Cheng-Han%20Lin_Assignment%204.png": {
     "image/png": "[encoded data removed]"
    }
   },
   "cell_type": "markdown",
   "id": "b6264456",
   "metadata": {},
   "source": [
    "![Cheng-Han%20Lin_Assignment%204.png](attachment:Cheng-Han%20Lin_Assignment%204.png)"
   ]
  }
 ],
 "metadata": {
  "kernelspec": {
   "display_name": "Python 3 (ipykernel)",
   "language": "python",
   "name": "python3"
  },
  "language_info": {
   "codemirror_mode": {
    "name": "ipython",
    "version": 3
   },
   "file_extension": ".py",
   "mimetype": "text/x-python",
   "name": "python",
   "nbconvert_exporter": "python",
   "pygments_lexer": "ipython3",
   "version": "3.10.9"
  }
 },
 "nbformat": 4,
 "nbformat_minor": 5
}
